{
  "nbformat": 4,
  "nbformat_minor": 0,
  "metadata": {
    "colab": {
      "provenance": []
    },
    "kernelspec": {
      "name": "python3",
      "display_name": "Python 3"
    },
    "language_info": {
      "name": "python"
    }
  },
  "cells": [
    {
      "cell_type": "code",
      "source": [
        "from google.colab import files\n",
        "uploaded = files.upload()\n",
        "\n"
      ],
      "metadata": {
        "colab": {
          "base_uri": "https://localhost:8080/",
          "height": 73
        },
        "id": "QvEoC1Ubjpfd",
        "outputId": "43c2befb-8b05-473d-d0e3-913ef70361e5"
      },
      "execution_count": 4,
      "outputs": [
        {
          "output_type": "display_data",
          "data": {
            "text/plain": [
              "<IPython.core.display.HTML object>"
            ],
            "text/html": [
              "\n",
              "     <input type=\"file\" id=\"files-8e5d822f-92f3-43eb-8844-ce65f1b92682\" name=\"files[]\" multiple disabled\n",
              "        style=\"border:none\" />\n",
              "     <output id=\"result-8e5d822f-92f3-43eb-8844-ce65f1b92682\">\n",
              "      Upload widget is only available when the cell has been executed in the\n",
              "      current browser session. Please rerun this cell to enable.\n",
              "      </output>\n",
              "      <script>// Copyright 2017 Google LLC\n",
              "//\n",
              "// Licensed under the Apache License, Version 2.0 (the \"License\");\n",
              "// you may not use this file except in compliance with the License.\n",
              "// You may obtain a copy of the License at\n",
              "//\n",
              "//      http://www.apache.org/licenses/LICENSE-2.0\n",
              "//\n",
              "// Unless required by applicable law or agreed to in writing, software\n",
              "// distributed under the License is distributed on an \"AS IS\" BASIS,\n",
              "// WITHOUT WARRANTIES OR CONDITIONS OF ANY KIND, either express or implied.\n",
              "// See the License for the specific language governing permissions and\n",
              "// limitations under the License.\n",
              "\n",
              "/**\n",
              " * @fileoverview Helpers for google.colab Python module.\n",
              " */\n",
              "(function(scope) {\n",
              "function span(text, styleAttributes = {}) {\n",
              "  const element = document.createElement('span');\n",
              "  element.textContent = text;\n",
              "  for (const key of Object.keys(styleAttributes)) {\n",
              "    element.style[key] = styleAttributes[key];\n",
              "  }\n",
              "  return element;\n",
              "}\n",
              "\n",
              "// Max number of bytes which will be uploaded at a time.\n",
              "const MAX_PAYLOAD_SIZE = 100 * 1024;\n",
              "\n",
              "function _uploadFiles(inputId, outputId) {\n",
              "  const steps = uploadFilesStep(inputId, outputId);\n",
              "  const outputElement = document.getElementById(outputId);\n",
              "  // Cache steps on the outputElement to make it available for the next call\n",
              "  // to uploadFilesContinue from Python.\n",
              "  outputElement.steps = steps;\n",
              "\n",
              "  return _uploadFilesContinue(outputId);\n",
              "}\n",
              "\n",
              "// This is roughly an async generator (not supported in the browser yet),\n",
              "// where there are multiple asynchronous steps and the Python side is going\n",
              "// to poll for completion of each step.\n",
              "// This uses a Promise to block the python side on completion of each step,\n",
              "// then passes the result of the previous step as the input to the next step.\n",
              "function _uploadFilesContinue(outputId) {\n",
              "  const outputElement = document.getElementById(outputId);\n",
              "  const steps = outputElement.steps;\n",
              "\n",
              "  const next = steps.next(outputElement.lastPromiseValue);\n",
              "  return Promise.resolve(next.value.promise).then((value) => {\n",
              "    // Cache the last promise value to make it available to the next\n",
              "    // step of the generator.\n",
              "    outputElement.lastPromiseValue = value;\n",
              "    return next.value.response;\n",
              "  });\n",
              "}\n",
              "\n",
              "/**\n",
              " * Generator function which is called between each async step of the upload\n",
              " * process.\n",
              " * @param {string} inputId Element ID of the input file picker element.\n",
              " * @param {string} outputId Element ID of the output display.\n",
              " * @return {!Iterable<!Object>} Iterable of next steps.\n",
              " */\n",
              "function* uploadFilesStep(inputId, outputId) {\n",
              "  const inputElement = document.getElementById(inputId);\n",
              "  inputElement.disabled = false;\n",
              "\n",
              "  const outputElement = document.getElementById(outputId);\n",
              "  outputElement.innerHTML = '';\n",
              "\n",
              "  const pickedPromise = new Promise((resolve) => {\n",
              "    inputElement.addEventListener('change', (e) => {\n",
              "      resolve(e.target.files);\n",
              "    });\n",
              "  });\n",
              "\n",
              "  const cancel = document.createElement('button');\n",
              "  inputElement.parentElement.appendChild(cancel);\n",
              "  cancel.textContent = 'Cancel upload';\n",
              "  const cancelPromise = new Promise((resolve) => {\n",
              "    cancel.onclick = () => {\n",
              "      resolve(null);\n",
              "    };\n",
              "  });\n",
              "\n",
              "  // Wait for the user to pick the files.\n",
              "  const files = yield {\n",
              "    promise: Promise.race([pickedPromise, cancelPromise]),\n",
              "    response: {\n",
              "      action: 'starting',\n",
              "    }\n",
              "  };\n",
              "\n",
              "  cancel.remove();\n",
              "\n",
              "  // Disable the input element since further picks are not allowed.\n",
              "  inputElement.disabled = true;\n",
              "\n",
              "  if (!files) {\n",
              "    return {\n",
              "      response: {\n",
              "        action: 'complete',\n",
              "      }\n",
              "    };\n",
              "  }\n",
              "\n",
              "  for (const file of files) {\n",
              "    const li = document.createElement('li');\n",
              "    li.append(span(file.name, {fontWeight: 'bold'}));\n",
              "    li.append(span(\n",
              "        `(${file.type || 'n/a'}) - ${file.size} bytes, ` +\n",
              "        `last modified: ${\n",
              "            file.lastModifiedDate ? file.lastModifiedDate.toLocaleDateString() :\n",
              "                                    'n/a'} - `));\n",
              "    const percent = span('0% done');\n",
              "    li.appendChild(percent);\n",
              "\n",
              "    outputElement.appendChild(li);\n",
              "\n",
              "    const fileDataPromise = new Promise((resolve) => {\n",
              "      const reader = new FileReader();\n",
              "      reader.onload = (e) => {\n",
              "        resolve(e.target.result);\n",
              "      };\n",
              "      reader.readAsArrayBuffer(file);\n",
              "    });\n",
              "    // Wait for the data to be ready.\n",
              "    let fileData = yield {\n",
              "      promise: fileDataPromise,\n",
              "      response: {\n",
              "        action: 'continue',\n",
              "      }\n",
              "    };\n",
              "\n",
              "    // Use a chunked sending to avoid message size limits. See b/62115660.\n",
              "    let position = 0;\n",
              "    do {\n",
              "      const length = Math.min(fileData.byteLength - position, MAX_PAYLOAD_SIZE);\n",
              "      const chunk = new Uint8Array(fileData, position, length);\n",
              "      position += length;\n",
              "\n",
              "      const base64 = btoa(String.fromCharCode.apply(null, chunk));\n",
              "      yield {\n",
              "        response: {\n",
              "          action: 'append',\n",
              "          file: file.name,\n",
              "          data: base64,\n",
              "        },\n",
              "      };\n",
              "\n",
              "      let percentDone = fileData.byteLength === 0 ?\n",
              "          100 :\n",
              "          Math.round((position / fileData.byteLength) * 100);\n",
              "      percent.textContent = `${percentDone}% done`;\n",
              "\n",
              "    } while (position < fileData.byteLength);\n",
              "  }\n",
              "\n",
              "  // All done.\n",
              "  yield {\n",
              "    response: {\n",
              "      action: 'complete',\n",
              "    }\n",
              "  };\n",
              "}\n",
              "\n",
              "scope.google = scope.google || {};\n",
              "scope.google.colab = scope.google.colab || {};\n",
              "scope.google.colab._files = {\n",
              "  _uploadFiles,\n",
              "  _uploadFilesContinue,\n",
              "};\n",
              "})(self);\n",
              "</script> "
            ]
          },
          "metadata": {}
        },
        {
          "output_type": "stream",
          "name": "stdout",
          "text": [
            "Saving movies.csv to movies.csv\n"
          ]
        }
      ]
    },
    {
      "cell_type": "code",
      "source": [
        "import pandas as pd\n",
        "import matplotlib.pyplot as plt\n",
        "\n",
        "# Load dataset\n",
        "df = pd.read_csv('movies.csv')\n"
      ],
      "metadata": {
        "id": "pISydaKAkzjN"
      },
      "execution_count": 5,
      "outputs": []
    },
    {
      "cell_type": "code",
      "source": [
        "df['ReleaseDate'] = pd.to_datetime(df['ReleaseDate'])\n"
      ],
      "metadata": {
        "id": "RmcG9P2mk5uF"
      },
      "execution_count": 6,
      "outputs": []
    },
    {
      "cell_type": "code",
      "source": [
        "df['Profit'] = df['Revenue'] - df['Budget']\n"
      ],
      "metadata": {
        "id": "zJkQLukWk7Ll"
      },
      "execution_count": 7,
      "outputs": []
    },
    {
      "cell_type": "code",
      "source": [
        "def get_era(date):\n",
        "    if date.year < 2000:\n",
        "        return 'Classic'\n",
        "    elif 2000 <= date.year <= 2010:\n",
        "        return 'Mid'\n",
        "    else:\n",
        "        return 'Modern'\n",
        "\n",
        "df['Era'] = df['ReleaseDate'].apply(get_era)\n"
      ],
      "metadata": {
        "id": "TNQwzDz9k8tc"
      },
      "execution_count": 8,
      "outputs": []
    },
    {
      "cell_type": "code",
      "source": [
        "df['Revenue'].fillna(df['Revenue'].mean(), inplace=True)\n"
      ],
      "metadata": {
        "colab": {
          "base_uri": "https://localhost:8080/"
        },
        "id": "ZljeS-kWk--l",
        "outputId": "c5f47e39-97aa-4ec6-ddd7-c099daa9aa25"
      },
      "execution_count": 9,
      "outputs": [
        {
          "output_type": "stream",
          "name": "stderr",
          "text": [
            "/tmp/ipython-input-4036005715.py:1: FutureWarning: A value is trying to be set on a copy of a DataFrame or Series through chained assignment using an inplace method.\n",
            "The behavior will change in pandas 3.0. This inplace method will never work because the intermediate object on which we are setting values always behaves as a copy.\n",
            "\n",
            "For example, when doing 'df[col].method(value, inplace=True)', try using 'df.method({col: value}, inplace=True)' or df[col] = df[col].method(value) instead, to perform the operation inplace on the original object.\n",
            "\n",
            "\n",
            "  df['Revenue'].fillna(df['Revenue'].mean(), inplace=True)\n"
          ]
        }
      ]
    },
    {
      "cell_type": "code",
      "source": [
        "df_sorted = df.sort_values(by='Rating', ascending=False)\n"
      ],
      "metadata": {
        "id": "nwZKz1StlCV7"
      },
      "execution_count": 10,
      "outputs": []
    },
    {
      "cell_type": "code",
      "source": [
        "grouped = df.groupby('Genre').agg({'Rating': 'mean', 'Revenue': 'sum'})\n",
        "print(grouped)\n"
      ],
      "metadata": {
        "colab": {
          "base_uri": "https://localhost:8080/"
        },
        "id": "-tA1Brr9lEUP",
        "outputId": "45c2d9d1-bc93-4c1a-f12c-a917da34c758"
      },
      "execution_count": 11,
      "outputs": [
        {
          "output_type": "stream",
          "name": "stdout",
          "text": [
            "         Rating       Revenue\n",
            "Genre                        \n",
            "Action     8.70  3.802359e+09\n",
            "Drama      8.40  1.074251e+09\n",
            "Romance    7.85  3.615310e+09\n",
            "Sci-Fi     8.70  1.503004e+09\n"
          ]
        }
      ]
    },
    {
      "cell_type": "code",
      "source": [
        "high_perf = df[(df['Rating'] >= 8.5) & (df['Profit'] > 500_000_000)]\n",
        "print(high_perf[['Title', 'Rating', 'Profit']])\n"
      ],
      "metadata": {
        "colab": {
          "base_uri": "https://localhost:8080/"
        },
        "id": "cikqk00RlGXB",
        "outputId": "8f634a30-45f1-4e90-d469-5ddf2f77fe86"
      },
      "execution_count": 12,
      "outputs": [
        {
          "output_type": "stream",
          "name": "stdout",
          "text": [
            "             Title  Rating       Profit\n",
            "0        Inception     8.8  665532764.0\n",
            "1  The Dark Knight     9.0  819558444.0\n",
            "3     Interstellar     8.6  512471339.0\n"
          ]
        }
      ]
    },
    {
      "cell_type": "code",
      "source": [
        "plt.figure(figsize=(10,6))\n",
        "plt.bar(df['Title'], df['Profit'], color='purple')\n",
        "plt.xticks(rotation=45)\n",
        "plt.title(\"Movie Profit Chart\")\n",
        "plt.ylabel(\"Profit ($)\")\n",
        "plt.tight_layout()\n",
        "plt.show()\n"
      ],
      "metadata": {
        "colab": {
          "base_uri": "https://localhost:8080/",
          "height": 392
        },
        "id": "ubCsae2ilIAn",
        "outputId": "ea1209f3-8e02-4d50-ab1c-bf28af1dfcc4"
      },
      "execution_count": 14,
      "outputs": [
        {
          "output_type": "display_data",
          "data": {
            "text/plain": [
              "<Figure size 1000x600 with 1 Axes>"
            ],
            "image/png": "[encoded data removed]"
          },
          "metadata": {}
        }
      ]
    },
    {
      "cell_type": "markdown",
      "source": [
        " PART 2: PYSPARK OPERATIONS"
      ],
      "metadata": {
        "id": "dUShrHu9lQZ6"
      }
    },
    {
      "cell_type": "code",
      "source": [
        "from pyspark.sql import SparkSession\n",
        "from pyspark.sql.functions import col, when, year, month, to_date, avg, sum as _sum, rank\n",
        "from pyspark.sql.window import Window\n",
        "\n",
        "spark = SparkSession.builder.appName(\"MovieAnalysis\").getOrCreate()\n",
        "df_spark = spark.read.csv(\"movies.csv\", header=True, inferSchema=True)\n"
      ],
      "metadata": {
        "id": "K04Gevm8lSDo"
      },
      "execution_count": 15,
      "outputs": []
    },
    {
      "cell_type": "code",
      "source": [
        "df_spark = df_spark.withColumn(\"Profit\", col(\"Revenue\") - col(\"Budget\"))\n"
      ],
      "metadata": {
        "id": "KfFMUHsllZis"
      },
      "execution_count": 16,
      "outputs": []
    },
    {
      "cell_type": "code",
      "source": [
        "df_spark.filter((col(\"Genre\") == \"Sci-Fi\") & (col(\"Profit\") > 500_000_000)).show()\n"
      ],
      "metadata": {
        "colab": {
          "base_uri": "https://localhost:8080/"
        },
        "id": "3sZNdwAXla0d",
        "outputId": "e35185a0-b903-44d3-9c37-f95dcd35159f"
      },
      "execution_count": 17,
      "outputs": [
        {
          "output_type": "stream",
          "name": "stdout",
          "text": [
            "+-------+------------+------+-----------+------+---------+---------+---------+\n",
            "|MovieID|       Title| Genre|ReleaseDate|Rating|  Revenue|   Budget|   Profit|\n",
            "+-------+------------+------+-----------+------+---------+---------+---------+\n",
            "|      1|   Inception|Sci-Fi| 2010-07-16|   8.8|825532764|160000000|665532764|\n",
            "|      4|Interstellar|Sci-Fi| 2014-11-07|   8.6|677471339|165000000|512471339|\n",
            "+-------+------------+------+-----------+------+---------+---------+---------+\n",
            "\n"
          ]
        }
      ]
    },
    {
      "cell_type": "code",
      "source": [
        "df_spark.groupBy(\"Genre\").agg(avg(\"Rating\").alias(\"AvgRating\"), _sum(\"Profit\").alias(\"TotalProfit\")).show()\n"
      ],
      "metadata": {
        "colab": {
          "base_uri": "https://localhost:8080/"
        },
        "id": "t8Qvyj8olcSH",
        "outputId": "802f8368-2a58-4c3b-a4b8-81c67b198c4d"
      },
      "execution_count": 18,
      "outputs": [
        {
          "output_type": "stream",
          "name": "stdout",
          "text": [
            "+-------+---------+-----------+\n",
            "|  Genre|AvgRating|TotalProfit|\n",
            "+-------+---------+-----------+\n",
            "|Romance|     7.85| 1987463944|\n",
            "|  Drama|      8.4| 1019251311|\n",
            "| Action|      8.7| 3261359008|\n",
            "| Sci-Fi|      8.7| 1178004103|\n",
            "+-------+---------+-----------+\n",
            "\n"
          ]
        }
      ]
    },
    {
      "cell_type": "code",
      "source": [
        "df_spark = df_spark.withColumn(\"Category\",\n",
        "    when(col(\"Rating\") == 9.0, \"Blockbuster\")\n",
        "    .when((col(\"Rating\") >= 8.0) & (col(\"Rating\") < 9.0), \"Hit\")\n",
        "    .otherwise(\"Average\")\n",
        ")\n"
      ],
      "metadata": {
        "id": "CBh7cLmEld-N"
      },
      "execution_count": 19,
      "outputs": []
    },
    {
      "cell_type": "code",
      "source": [
        "df_spark = df_spark.drop(\"Budget\")\n"
      ],
      "metadata": {
        "id": "GK_qUqnzlfWe"
      },
      "execution_count": 20,
      "outputs": []
    },
    {
      "cell_type": "code",
      "source": [
        "avg_revenue = df_spark.select(avg(\"Revenue\")).first()[0]\n",
        "df_spark = df_spark.na.fill({\"Revenue\": avg_revenue})\n"
      ],
      "metadata": {
        "id": "WRjuprvElh2I"
      },
      "execution_count": 21,
      "outputs": []
    },
    {
      "cell_type": "code",
      "source": [
        "df_spark = df_spark.withColumn(\"ReleaseDate\", to_date(\"ReleaseDate\"))\n",
        "df_spark = df_spark.withColumn(\"Year\", year(\"ReleaseDate\")).withColumn(\"Month\", month(\"ReleaseDate\"))\n"
      ],
      "metadata": {
        "id": "KjKkajBKljOH"
      },
      "execution_count": 22,
      "outputs": []
    },
    {
      "cell_type": "code",
      "source": [
        "windowSpec = Window.partitionBy(\"Genre\").orderBy(col(\"Profit\").desc())\n",
        "df_spark = df_spark.withColumn(\"RankInGenre\", rank().over(windowSpec))\n",
        "df_spark.select(\"Title\", \"Genre\", \"Profit\", \"RankInGenre\").show()\n"
      ],
      "metadata": {
        "colab": {
          "base_uri": "https://localhost:8080/"
        },
        "id": "R70YPrdslkv1",
        "outputId": "ba65bef0-90e1-4f82-e860-4bba2dd0a13b"
      },
      "execution_count": 23,
      "outputs": [
        {
          "output_type": "stream",
          "name": "stdout",
          "text": [
            "+-----------------+-------+----------+-----------+\n",
            "|            Title|  Genre|    Profit|RankInGenre|\n",
            "+-----------------+-------+----------+-----------+\n",
            "|Avengers: Endgame| Action|2441800564|          1|\n",
            "|  The Dark Knight| Action| 819558444|          2|\n",
            "|            Joker|  Drama|1019251311|          1|\n",
            "|          Titanic|Romance|1987463944|          1|\n",
            "|     The Notebook|Romance|      NULL|          2|\n",
            "|        Inception| Sci-Fi| 665532764|          1|\n",
            "|     Interstellar| Sci-Fi| 512471339|          2|\n",
            "+-----------------+-------+----------+-----------+\n",
            "\n"
          ]
        }
      ]
    },
    {
      "cell_type": "markdown",
      "source": [
        " PART 3: JSON + UNION + ROI"
      ],
      "metadata": {
        "id": "6_Ealz3GloG_"
      }
    },
    {
      "cell_type": "code",
      "source": [
        "import json\n",
        "\n",
        "# Define the JSON data\n",
        "bonus_data = [\n",
        "    {\n",
        "        \"MovieID\": 8,\n",
        "        \"Title\": \"Barbie\",\n",
        "        \"Genre\": \"Drama\",\n",
        "        \"Rating\": 7.5,\n",
        "        \"Revenue\": 1456000000,\n",
        "        \"Budget\": 145000000\n",
        "    },\n",
        "    {\n",
        "        \"MovieID\": 9,\n",
        "        \"Title\": \"Oppenheimer\",\n",
        "        \"Genre\": \"Drama\",\n",
        "        \"Rating\": 8.6,\n",
        "        \"Revenue\": 950000000,\n",
        "        \"Budget\": 100000000\n",
        "    }\n",
        "]\n",
        "\n",
        "with open('movies_bonus.json', 'w') as f:\n",
        "    json.dump(bonus_data, f, indent=4)"
      ],
      "metadata": {
        "id": "AQeJRDFvl6wt"
      },
      "execution_count": 26,
      "outputs": []
    },
    {
      "cell_type": "code",
      "source": [
        "bonus_df = spark.read.json(\"movies_bonus.json\")\n"
      ],
      "metadata": {
        "id": "gzP6EvMUmIAW"
      },
      "execution_count": 27,
      "outputs": []
    },
    {
      "cell_type": "code",
      "source": [
        "from pyspark.sql.functions import lit, to_date\n",
        "bonus_df = bonus_df.withColumn(\"ReleaseDate\", to_date(lit(None)))\n",
        "df_combined = df_spark.unionByName(bonus_df, allowMissingColumns=True)\n",
        "\n"
      ],
      "metadata": {
        "id": "zxTGgAvmmV0g"
      },
      "execution_count": 32,
      "outputs": []
    },
    {
      "cell_type": "code",
      "source": [
        "df_combined.orderBy(col(\"Revenue\").desc()).select(\"Title\", \"Revenue\").show(5)\n"
      ],
      "metadata": {
        "colab": {
          "base_uri": "https://localhost:8080/"
        },
        "id": "UI0TXM2tmJ50",
        "outputId": "ba1aaf42-920b-4967-c07f-3ca7f665f9b2"
      },
      "execution_count": 33,
      "outputs": [
        {
          "output_type": "stream",
          "name": "stdout",
          "text": [
            "+-----------------+----------+\n",
            "|            Title|   Revenue|\n",
            "+-----------------+----------+\n",
            "|Avengers: Endgame|2797800564|\n",
            "|          Titanic|2187463944|\n",
            "|     The Notebook|1427846394|\n",
            "|            Joker|1074251311|\n",
            "|  The Dark Knight|1004558444|\n",
            "+-----------------+----------+\n",
            "only showing top 5 rows\n",
            "\n"
          ]
        }
      ]
    },
    {
      "cell_type": "code",
      "source": [
        "df_combined.write.csv(\"final_movies.csv\", header=True, mode=\"overwrite\")\n"
      ],
      "metadata": {
        "id": "ixBWznJM8Er3"
      },
      "execution_count": null,
      "outputs": []
    }
  ]
}