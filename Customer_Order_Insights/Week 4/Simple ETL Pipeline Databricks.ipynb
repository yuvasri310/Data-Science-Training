{
 "cells": [
  {
   "cell_type": "markdown",
   "metadata": {
    "application/vnd.databricks.v1+cell": {
     "cellMetadata": {},
     "inputWidgets": {},
     "nuid": "2d964551-baa8-4282-bc0a-ca779699b854",
     "showTitle": false,
     "tableResultSettingsMap": {},
     "title": ""
    }
   },
   "source": [
    "Load cleaned order data into Databricks"
   ]
  },
  {
   "cell_type": "code",
   "execution_count": 0,
   "metadata": {
    "application/vnd.databricks.v1+cell": {
     "cellMetadata": {
      "byteLimit": 2048000,
      "rowLimit": 10000
     },
     "inputWidgets": {},
     "nuid": "60ae183e-d843-4bef-aaeb-47ceef2075e5",
     "showTitle": false,
     "tableResultSettingsMap": {},
     "title": ""
    }
   },
   "outputs": [
    {
     "output_type": "display_data",
     "data": {
      "text/html": [
       "<style scoped>\n",
       "  .table-result-container {\n",
       "    max-height: 300px;\n",
       "    overflow: auto;\n",
       "  }\n",
       "  table, th, td {\n",
       "    border: 1px solid black;\n",
       "    border-collapse: collapse;\n",
       "  }\n",
       "  th, td {\n",
       "    padding: 5px;\n",
       "  }\n",
       "  th {\n",
       "    text-align: left;\n",
       "  }\n",
       "</style><div class='table-result-container'><table class='table-result'><thead style='background-color: white'><tr><th>order_id</th><th>customer_id</th><th>order_date</th><th>delivery_date</th><th>status_description</th></tr></thead><tbody><tr><td>1</td><td>6</td><td>2025-07-19</td><td>2025-07-23</td><td>Courier not assigned</td></tr><tr><td>2</td><td>4</td><td>2025-07-18</td><td>2025-07-24</td><td>Wrong address</td></tr><tr><td>3</td><td>7</td><td>2025-07-20</td><td>2025-07-23</td><td>On time</td></tr><tr><td>4</td><td>1</td><td>2025-07-19</td><td>2025-07-28</td><td>Wrong address</td></tr><tr><td>5</td><td>7</td><td>2025-07-12</td><td>2025-07-18</td><td>Delayed due to rain</td></tr><tr><td>6</td><td>1</td><td>2025-07-13</td><td>2025-07-17</td><td>Wrong address</td></tr><tr><td>7</td><td>3</td><td>2025-07-12</td><td>2025-07-17</td><td>Courier not assigned</td></tr><tr><td>8</td><td>9</td><td>2025-07-11</td><td>2025-07-15</td><td>Delayed due to rain</td></tr><tr><td>9</td><td>4</td><td>2025-07-16</td><td>2025-07-24</td><td>Delayed due to rain</td></tr><tr><td>10</td><td>10</td><td>2025-07-14</td><td>2025-07-22</td><td>Packaging delay</td></tr><tr><td>11</td><td>2</td><td>2025-07-19</td><td>2025-07-28</td><td>Wrong address</td></tr><tr><td>12</td><td>9</td><td>2025-07-12</td><td>2025-07-19</td><td>Vehicle breakdown</td></tr><tr><td>13</td><td>4</td><td>2025-07-20</td><td>2025-07-26</td><td>Packaging delay</td></tr><tr><td>14</td><td>10</td><td>2025-07-17</td><td>2025-07-21</td><td>Packaging delay</td></tr><tr><td>15</td><td>3</td><td>2025-07-19</td><td>2025-07-28</td><td>Logistics issue</td></tr><tr><td>16</td><td>9</td><td>2025-07-18</td><td>2025-07-26</td><td>Courier not assigned</td></tr><tr><td>17</td><td>8</td><td>2025-07-14</td><td>2025-07-17</td><td>On time</td></tr><tr><td>18</td><td>3</td><td>2025-07-13</td><td>2025-07-16</td><td>On time</td></tr><tr><td>19</td><td>10</td><td>2025-07-15</td><td>2025-07-22</td><td>Delayed due to rain</td></tr><tr><td>20</td><td>10</td><td>2025-07-15</td><td>2025-07-22</td><td>Logistics issue</td></tr></tbody></table></div>"
      ]
     },
     "metadata": {
      "application/vnd.databricks.v1+output": {
       "addedWidgets": {},
       "aggData": [],
       "aggError": "",
       "aggOverflow": false,
       "aggSchema": [],
       "aggSeriesLimitReached": false,
       "aggType": "",
       "arguments": {},
       "columnCustomDisplayInfos": {},
       "data": [
        [
         1,
         6,
         "2025-07-19",
         "2025-07-23",
         "Courier not assigned"
        ],
        [
         2,
         4,
         "2025-07-18",
         "2025-07-24",
         "Wrong address"
        ],
        [
         3,
         7,
         "2025-07-20",
         "2025-07-23",
         "On time"
        ],
        [
         4,
         1,
         "2025-07-19",
         "2025-07-28",
         "Wrong address"
        ],
        [
         5,
         7,
         "2025-07-12",
         "2025-07-18",
         "Delayed due to rain"
        ],
        [
         6,
         1,
         "2025-07-13",
         "2025-07-17",
         "Wrong address"
        ],
        [
         7,
         3,
         "2025-07-12",
         "2025-07-17",
         "Courier not assigned"
        ],
        [
         8,
         9,
         "2025-07-11",
         "2025-07-15",
         "Delayed due to rain"
        ],
        [
         9,
         4,
         "2025-07-16",
         "2025-07-24",
         "Delayed due to rain"
        ],
        [
         10,
         10,
         "2025-07-14",
         "2025-07-22",
         "Packaging delay"
        ],
        [
         11,
         2,
         "2025-07-19",
         "2025-07-28",
         "Wrong address"
        ],
        [
         12,
         9,
         "2025-07-12",
         "2025-07-19",
         "Vehicle breakdown"
        ],
        [
         13,
         4,
         "2025-07-20",
         "2025-07-26",
         "Packaging delay"
        ],
        [
         14,
         10,
         "2025-07-17",
         "2025-07-21",
         "Packaging delay"
        ],
        [
         15,
         3,
         "2025-07-19",
         "2025-07-28",
         "Logistics issue"
        ],
        [
         16,
         9,
         "2025-07-18",
         "2025-07-26",
         "Courier not assigned"
        ],
        [
         17,
         8,
         "2025-07-14",
         "2025-07-17",
         "On time"
        ],
        [
         18,
         3,
         "2025-07-13",
         "2025-07-16",
         "On time"
        ],
        [
         19,
         10,
         "2025-07-15",
         "2025-07-22",
         "Delayed due to rain"
        ],
        [
         20,
         10,
         "2025-07-15",
         "2025-07-22",
         "Logistics issue"
        ]
       ],
       "datasetInfos": [],
       "dbfsResultPath": null,
       "isJsonSchema": true,
       "metadata": {},
       "overflow": false,
       "plotOptions": {
        "customPlotOptions": {},
        "displayType": "table",
        "pivotAggregation": null,
        "pivotColumns": null,
        "xColumns": null,
        "yColumns": null
       },
       "removedWidgets": [],
       "schema": [
        {
         "metadata": "{}",
         "name": "order_id",
         "type": "\"integer\""
        },
        {
         "metadata": "{}",
         "name": "customer_id",
         "type": "\"integer\""
        },
        {
         "metadata": "{\"__detected_date_formats\":\"yyyy-M-d\"}",
         "name": "order_date",
         "type": "\"date\""
        },
        {
         "metadata": "{\"__detected_date_formats\":\"yyyy-M-d\"}",
         "name": "delivery_date",
         "type": "\"date\""
        },
        {
         "metadata": "{}",
         "name": "status_description",
         "type": "\"string\""
        }
       ],
       "type": "table"
      }
     },
     "output_type": "display_data"
    }
   ],
   "source": [
    "orders_df = spark.read.csv(\"/FileStore/tables/orders.csv\", header=True, inferSchema=True)\n",
    "display(orders_df)\n"
   ]
  },
  {
   "cell_type": "markdown",
   "metadata": {
    "application/vnd.databricks.v1+cell": {
     "cellMetadata": {},
     "inputWidgets": {},
     "nuid": "78300e84-cba1-4358-b44a-f91583b3a8b1",
     "showTitle": false,
     "tableResultSettingsMap": {},
     "title": ""
    }
   },
   "source": [
    "Create a pipeline to update latest delivery status"
   ]
  },
  {
   "cell_type": "code",
   "execution_count": 0,
   "metadata": {
    "application/vnd.databricks.v1+cell": {
     "cellMetadata": {
      "byteLimit": 2048000,
      "rowLimit": 10000
     },
     "inputWidgets": {},
     "nuid": "4f8065a7-e329-487c-bf1a-3fca0e3ac4df",
     "showTitle": false,
     "tableResultSettingsMap": {},
     "title": ""
    }
   },
   "outputs": [
    {
     "output_type": "display_data",
     "data": {
      "text/html": [
       "<style scoped>\n",
       "  .table-result-container {\n",
       "    max-height: 300px;\n",
       "    overflow: auto;\n",
       "  }\n",
       "  table, th, td {\n",
       "    border: 1px solid black;\n",
       "    border-collapse: collapse;\n",
       "  }\n",
       "  th, td {\n",
       "    padding: 5px;\n",
       "  }\n",
       "  th {\n",
       "    text-align: left;\n",
       "  }\n",
       "</style><div class='table-result-container'><table class='table-result'><thead style='background-color: white'><tr><th>order_id</th><th>customer_id</th><th>order_date</th><th>delivery_date</th><th>status_description</th><th>last_updated</th></tr></thead><tbody><tr><td>1</td><td>6</td><td>2025-07-19</td><td>2025-07-23</td><td>Courier not assigned</td><td>2025-08-17</td></tr><tr><td>2</td><td>4</td><td>2025-07-18</td><td>2025-07-24</td><td>Wrong address</td><td>2025-08-17</td></tr><tr><td>3</td><td>7</td><td>2025-07-20</td><td>2025-07-23</td><td>On time</td><td>2025-08-17</td></tr><tr><td>4</td><td>1</td><td>2025-07-19</td><td>2025-07-28</td><td>Wrong address</td><td>2025-08-17</td></tr><tr><td>5</td><td>7</td><td>2025-07-12</td><td>2025-07-18</td><td>Delayed due to rain</td><td>2025-08-17</td></tr></tbody></table></div>"
      ]
     },
     "metadata": {
      "application/vnd.databricks.v1+output": {
       "addedWidgets": {},
       "aggData": [],
       "aggError": "",
       "aggOverflow": false,
       "aggSchema": [],
       "aggSeriesLimitReached": false,
       "aggType": "",
       "arguments": {},
       "columnCustomDisplayInfos": {},
       "data": [
        [
         1,
         6,
         "2025-07-19",
         "2025-07-23",
         "Courier not assigned",
         "2025-08-17"
        ],
        [
         2,
         4,
         "2025-07-18",
         "2025-07-24",
         "Wrong address",
         "2025-08-17"
        ],
        [
         3,
         7,
         "2025-07-20",
         "2025-07-23",
         "On time",
         "2025-08-17"
        ],
        [
         4,
         1,
         "2025-07-19",
         "2025-07-28",
         "Wrong address",
         "2025-08-17"
        ],
        [
         5,
         7,
         "2025-07-12",
         "2025-07-18",
         "Delayed due to rain",
         "2025-08-17"
        ]
       ],
       "datasetInfos": [],
       "dbfsResultPath": null,
       "isJsonSchema": true,
       "metadata": {},
       "overflow": false,
       "plotOptions": {
        "customPlotOptions": {},
        "displayType": "table",
        "pivotAggregation": null,
        "pivotColumns": null,
        "xColumns": null,
        "yColumns": null
       },
       "removedWidgets": [],
       "schema": [
        {
         "metadata": "{}",
         "name": "order_id",
         "type": "\"integer\""
        },
        {
         "metadata": "{}",
         "name": "customer_id",
         "type": "\"integer\""
        },
        {
         "metadata": "{\"__detected_date_formats\":\"yyyy-M-d\"}",
         "name": "order_date",
         "type": "\"date\""
        },
        {
         "metadata": "{\"__detected_date_formats\":\"yyyy-M-d\"}",
         "name": "delivery_date",
         "type": "\"date\""
        },
        {
         "metadata": "{}",
         "name": "status_description",
         "type": "\"string\""
        },
        {
         "metadata": "{}",
         "name": "last_updated",
         "type": "\"date\""
        }
       ],
       "type": "table"
      }
     },
     "output_type": "display_data"
    }
   ],
   "source": [
    "from pyspark.sql.functions import current_date\n",
    "\n",
    "# Add a column \"last_updated\" to simulate ETL update\n",
    "updated_orders = orders_df.withColumn(\"last_updated\", current_date())\n",
    "\n",
    "display(updated_orders.limit(5))\n"
   ]
  },
  {
   "cell_type": "markdown",
   "metadata": {
    "application/vnd.databricks.v1+cell": {
     "cellMetadata": {},
     "inputWidgets": {},
     "nuid": "c7f79709-55a3-4e2e-97e7-cdb5da825d40",
     "showTitle": false,
     "tableResultSettingsMap": {},
     "title": ""
    }
   },
   "source": [
    "Save the results as Delta or CSV"
   ]
  },
  {
   "cell_type": "code",
   "execution_count": 0,
   "metadata": {
    "application/vnd.databricks.v1+cell": {
     "cellMetadata": {
      "byteLimit": 2048000,
      "rowLimit": 10000
     },
     "inputWidgets": {},
     "nuid": "27d90339-e540-4c45-a30c-e576fc5a5e12",
     "showTitle": false,
     "tableResultSettingsMap": {},
     "title": ""
    }
   },
   "outputs": [],
   "source": [
    "updated_orders.write.format(\"delta\").mode(\"overwrite\").save(\"/mnt/delta/orders_cleaned\")\n"
   ]
  },
  {
   "cell_type": "markdown",
   "metadata": {
    "application/vnd.databricks.v1+cell": {
     "cellMetadata": {},
     "inputWidgets": {},
     "nuid": "6e016b1d-c265-4462-ae6a-9bf8599c8bb0",
     "showTitle": false,
     "tableResultSettingsMap": {},
     "title": ""
    }
   },
   "source": [
    "Run SQL query to show top 5 delayed customers"
   ]
  },
  {
   "cell_type": "code",
   "execution_count": 0,
   "metadata": {
    "application/vnd.databricks.v1+cell": {
     "cellMetadata": {
      "byteLimit": 2048000,
      "rowLimit": 10000
     },
     "inputWidgets": {},
     "nuid": "74d85f87-3793-496c-951f-f77540b98d0b",
     "showTitle": false,
     "tableResultSettingsMap": {},
     "title": ""
    }
   },
   "outputs": [
    {
     "output_type": "display_data",
     "data": {
      "text/html": [
       "<style scoped>\n",
       "  .table-result-container {\n",
       "    max-height: 300px;\n",
       "    overflow: auto;\n",
       "  }\n",
       "  table, th, td {\n",
       "    border: 1px solid black;\n",
       "    border-collapse: collapse;\n",
       "  }\n",
       "  th, td {\n",
       "    padding: 5px;\n",
       "  }\n",
       "  th {\n",
       "    text-align: left;\n",
       "  }\n",
       "</style><div class='table-result-container'><table class='table-result'><thead style='background-color: white'><tr><th>customer_id</th><th>delay_count</th></tr></thead><tbody><tr><td>10</td><td>4</td></tr><tr><td>4</td><td>3</td></tr><tr><td>9</td><td>3</td></tr><tr><td>3</td><td>2</td></tr><tr><td>1</td><td>2</td></tr></tbody></table></div>"
      ]
     },
     "metadata": {
      "application/vnd.databricks.v1+output": {
       "addedWidgets": {},
       "aggData": [],
       "aggError": "",
       "aggOverflow": false,
       "aggSchema": [],
       "aggSeriesLimitReached": false,
       "aggType": "",
       "arguments": {},
       "columnCustomDisplayInfos": {},
       "data": [
        [
         10,
         4
        ],
        [
         4,
         3
        ],
        [
         9,
         3
        ],
        [
         3,
         2
        ],
        [
         1,
         2
        ]
       ],
       "datasetInfos": [],
       "dbfsResultPath": null,
       "isJsonSchema": true,
       "metadata": {},
       "overflow": false,
       "plotOptions": {
        "customPlotOptions": {},
        "displayType": "table",
        "pivotAggregation": null,
        "pivotColumns": null,
        "xColumns": null,
        "yColumns": null
       },
       "removedWidgets": [],
       "schema": [
        {
         "metadata": "{}",
         "name": "customer_id",
         "type": "\"integer\""
        },
        {
         "metadata": "{}",
         "name": "delay_count",
         "type": "\"long\""
        }
       ],
       "type": "table"
      }
     },
     "output_type": "display_data"
    }
   ],
   "source": [
    "# Register DataFrame as SQL view\n",
    "updated_orders.createOrReplaceTempView(\"orders\")\n",
    "\n",
    "# Run SQL to find top 5 delayed customers\n",
    "top_delayed = spark.sql(\"\"\"\n",
    "    SELECT customer_id, COUNT(*) AS delay_count\n",
    "    FROM orders\n",
    "    WHERE status_description <> 'On time'\n",
    "    GROUP BY customer_id\n",
    "    ORDER BY delay_count DESC\n",
    "    LIMIT 5\n",
    "\"\"\")\n",
    "display(top_delayed)\n"
   ]
  }
 ],
 "metadata": {
  "application/vnd.databricks.v1+notebook": {
   "computePreferences": null,
   "dashboards": [],
   "environmentMetadata": {
    "base_environment": "",
    "environment_version": "2"
   },
   "inputWidgetPreferences": null,
   "language": "python",
   "notebookMetadata": {
    "pythonIndentUnit": 4
   },
   "notebookName": "WEEK-4",
   "widgets": {}
  },
  "language_info": {
   "name": "python"
  }
 },
 "nbformat": 4,
 "nbformat_minor": 0
}