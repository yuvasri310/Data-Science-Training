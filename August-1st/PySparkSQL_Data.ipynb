{
  "nbformat": 4,
  "nbformat_minor": 0,
  "metadata": {
    "colab": {
      "provenance": []
    },
    "kernelspec": {
      "name": "python3",
      "display_name": "Python 3"
    },
    "language_info": {
      "name": "python"
    }
  },
  "cells": [
    {
      "cell_type": "code",
      "execution_count": 7,
      "metadata": {
        "id": "uv2xBTmHFbKP"
      },
      "outputs": [],
      "source": [
        "from pyspark.sql import SparkSession\n",
        "from pyspark.sql.functions import col,expr,month,year,avg,max,count,when,rank\n",
        "from pyspark.sql.window import Window\n",
        "\n",
        "spark=SparkSession.builder.appName(\"productorders\").getOrCreate()\n",
        "\n",
        "data=[\n",
        "(201,\"yuva\",\"laptop\",\"electronics\",2,45000,\"2023-01-10\"),\n",
        "(202,\"theshi\",\"shirt\",\"clothing\",1,2000,\"2023-02-12\"),\n",
        "(203,\"kavya\",\"table\",\"furniture\",1,12000,\"2023-01-25\"),\n",
        "(204,\"priya\",\"smartphone\",\"electronics\",4,30000,\"2023-03-01\"),\n",
        "(205,\"mani\",\"chair\",\"furniture\",2,4500,\"2023-02-18\"),\n",
        "(206,\"harish\",\"bookshelf\",\"furniture\",5,7000,\"2023-01-05\"),\n",
        "(207,\"swathi\",\"novel\",\"books\",2,500,\"2023-01-20\"),\n",
        "(208,\"priya\",\"t-shirt\",\"clothing\",5,1000,\"2023-03-10\"),\n",
        "(209,\"ravi\",\"tablet\",\"electronics\",1,25000,\"2023-01-15\"),\n",
        "(210,\"theshi\",\"notebook\",\"books\",3,300,\"2023-03-03\"),\n",
        "(211,\"preetha\",\"sofa\",\"furniture\",1,15000,\"2023-02-22\"),\n",
        "(212,\"Ram\",\"jacket\",\"clothing\",2,3500,\"2023-01-30\")\n",
        "]\n",
        "\n",
        "columns=[\"orderid\",\"customername\",\"product\",\"category\",\"quantity\",\"unitprice\",\"orderdate\"]\n",
        "\n",
        "df=spark.createDataFrame(data,columns)\n",
        "df.createOrReplaceTempView(\"orders_local\")\n",
        "df.createOrReplaceGlobalTempView(\"orders_global\")\n",
        "\n"
      ]
    },
    {
      "cell_type": "markdown",
      "source": [
        "PART A"
      ],
      "metadata": {
        "id": "Lp1iSyfbFsdQ"
      }
    },
    {
      "cell_type": "code",
      "source": [
        "#1\n",
        "spark.sql(\"select * from orders_local where category='electronics' and quantity>=2\").show()\n"
      ],
      "metadata": {
        "colab": {
          "base_uri": "https://localhost:8080/"
        },
        "id": "t4XAL2YQFuNR",
        "outputId": "61f5c366-90b7-4272-f28b-b1232a0b5779"
      },
      "execution_count": 8,
      "outputs": [
        {
          "output_type": "stream",
          "name": "stdout",
          "text": [
            "+-------+------------+----------+-----------+--------+---------+----------+\n",
            "|orderid|customername|   product|   category|quantity|unitprice| orderdate|\n",
            "+-------+------------+----------+-----------+--------+---------+----------+\n",
            "|    201|        yuva|    laptop|electronics|       2|    45000|2023-01-10|\n",
            "|    204|       priya|smartphone|electronics|       4|    30000|2023-03-01|\n",
            "+-------+------------+----------+-----------+--------+---------+----------+\n",
            "\n"
          ]
        }
      ]
    },
    {
      "cell_type": "code",
      "source": [
        "#2\n",
        "spark.sql(\"select *,quantity*unitprice as totalamount from orders_local\").show()\n"
      ],
      "metadata": {
        "colab": {
          "base_uri": "https://localhost:8080/"
        },
        "id": "ii8U-BskGBxM",
        "outputId": "937cf838-4a1d-461e-bcd9-203955a29faa"
      },
      "execution_count": 9,
      "outputs": [
        {
          "output_type": "stream",
          "name": "stdout",
          "text": [
            "+-------+------------+----------+-----------+--------+---------+----------+-----------+\n",
            "|orderid|customername|   product|   category|quantity|unitprice| orderdate|totalamount|\n",
            "+-------+------------+----------+-----------+--------+---------+----------+-----------+\n",
            "|    201|        yuva|    laptop|electronics|       2|    45000|2023-01-10|      90000|\n",
            "|    202|      theshi|     shirt|   clothing|       1|     2000|2023-02-12|       2000|\n",
            "|    203|       kavya|     table|  furniture|       1|    12000|2023-01-25|      12000|\n",
            "|    204|       priya|smartphone|electronics|       4|    30000|2023-03-01|     120000|\n",
            "|    205|        mani|     chair|  furniture|       2|     4500|2023-02-18|       9000|\n",
            "|    206|      harish| bookshelf|  furniture|       5|     7000|2023-01-05|      35000|\n",
            "|    207|      swathi|     novel|      books|       2|      500|2023-01-20|       1000|\n",
            "|    208|       priya|   t-shirt|   clothing|       5|     1000|2023-03-10|       5000|\n",
            "|    209|        ravi|    tablet|electronics|       1|    25000|2023-01-15|      25000|\n",
            "|    210|      theshi|  notebook|      books|       3|      300|2023-03-03|        900|\n",
            "|    211|     preetha|      sofa|  furniture|       1|    15000|2023-02-22|      15000|\n",
            "|    212|         Ram|    jacket|   clothing|       2|     3500|2023-01-30|       7000|\n",
            "+-------+------------+----------+-----------+--------+---------+----------+-----------+\n",
            "\n"
          ]
        }
      ]
    },
    {
      "cell_type": "code",
      "source": [
        "#3\n",
        "spark.sql(\"select category,count(*) as ordercount from orders_local group by category\").show()"
      ],
      "metadata": {
        "colab": {
          "base_uri": "https://localhost:8080/"
        },
        "id": "fQBTu-CuG1t5",
        "outputId": "df197c9b-029f-4d29-cf3e-3b8450acad2d"
      },
      "execution_count": 10,
      "outputs": [
        {
          "output_type": "stream",
          "name": "stdout",
          "text": [
            "+-----------+----------+\n",
            "|   category|ordercount|\n",
            "+-----------+----------+\n",
            "|  furniture|         4|\n",
            "|electronics|         3|\n",
            "|   clothing|         3|\n",
            "|      books|         2|\n",
            "+-----------+----------+\n",
            "\n"
          ]
        }
      ]
    },
    {
      "cell_type": "code",
      "source": [
        "#4\n",
        "spark.sql(\"select * from orders_local where orderdate like '2023-01%'\").show()\n"
      ],
      "metadata": {
        "colab": {
          "base_uri": "https://localhost:8080/"
        },
        "id": "Hv2mf0vKG4QA",
        "outputId": "55e9ea87-305e-4c40-cb33-929f6bb6df3b"
      },
      "execution_count": 11,
      "outputs": [
        {
          "output_type": "stream",
          "name": "stdout",
          "text": [
            "+-------+------------+---------+-----------+--------+---------+----------+\n",
            "|orderid|customername|  product|   category|quantity|unitprice| orderdate|\n",
            "+-------+------------+---------+-----------+--------+---------+----------+\n",
            "|    201|        yuva|   laptop|electronics|       2|    45000|2023-01-10|\n",
            "|    203|       kavya|    table|  furniture|       1|    12000|2023-01-25|\n",
            "|    206|      harish|bookshelf|  furniture|       5|     7000|2023-01-05|\n",
            "|    207|      swathi|    novel|      books|       2|      500|2023-01-20|\n",
            "|    209|        ravi|   tablet|electronics|       1|    25000|2023-01-15|\n",
            "|    212|         Ram|   jacket|   clothing|       2|     3500|2023-01-30|\n",
            "+-------+------------+---------+-----------+--------+---------+----------+\n",
            "\n"
          ]
        }
      ]
    },
    {
      "cell_type": "code",
      "source": [
        "#5\n",
        "spark.sql(\"select category,avg(unitprice) as avgprice from orders_local group by category\").show()"
      ],
      "metadata": {
        "colab": {
          "base_uri": "https://localhost:8080/"
        },
        "id": "y17NLqz6G7NQ",
        "outputId": "89aaa64c-2fe7-4aa2-d57e-56c70ffeb5ff"
      },
      "execution_count": 12,
      "outputs": [
        {
          "output_type": "stream",
          "name": "stdout",
          "text": [
            "+-----------+------------------+\n",
            "|   category|          avgprice|\n",
            "+-----------+------------------+\n",
            "|  furniture|            9625.0|\n",
            "|electronics|33333.333333333336|\n",
            "|   clothing|2166.6666666666665|\n",
            "|      books|             400.0|\n",
            "+-----------+------------------+\n",
            "\n"
          ]
        }
      ]
    },
    {
      "cell_type": "code",
      "source": [
        "#6\n",
        "spark.sql(\"select *,quantity*unitprice as totalamount from orders_local order by totalamount desc limit 1\").show()"
      ],
      "metadata": {
        "colab": {
          "base_uri": "https://localhost:8080/"
        },
        "id": "25exgyyqG9Xq",
        "outputId": "5d8edec1-c519-4e04-fab3-dde6a918f4a8"
      },
      "execution_count": 13,
      "outputs": [
        {
          "output_type": "stream",
          "name": "stdout",
          "text": [
            "+-------+------------+----------+-----------+--------+---------+----------+-----------+\n",
            "|orderid|customername|   product|   category|quantity|unitprice| orderdate|totalamount|\n",
            "+-------+------------+----------+-----------+--------+---------+----------+-----------+\n",
            "|    204|       priya|smartphone|electronics|       4|    30000|2023-03-01|     120000|\n",
            "+-------+------------+----------+-----------+--------+---------+----------+-----------+\n",
            "\n"
          ]
        }
      ]
    },
    {
      "cell_type": "code",
      "source": [
        "#7\n",
        "spark.catalog.dropTempView(\"orders_local\")\n"
      ],
      "metadata": {
        "colab": {
          "base_uri": "https://localhost:8080/"
        },
        "id": "1yY2zhLMHA6P",
        "outputId": "8381a492-b7ca-4782-e9fe-5cf7ec64bb81"
      },
      "execution_count": 16,
      "outputs": [
        {
          "output_type": "execute_result",
          "data": {
            "text/plain": [
              "True"
            ]
          },
          "metadata": {},
          "execution_count": 16
        }
      ]
    },
    {
      "cell_type": "code",
      "source": [
        "try:\n",
        "  spark.sql(\"select * from orders_local\").show()\n",
        "except Exception as e:\n",
        "  print(\"error:\",e)"
      ],
      "metadata": {
        "colab": {
          "base_uri": "https://localhost:8080/"
        },
        "id": "u9BBfW3JHVyy",
        "outputId": "c576da69-3d59-407b-df04-ca2cc4957bbd"
      },
      "execution_count": 17,
      "outputs": [
        {
          "output_type": "stream",
          "name": "stdout",
          "text": [
            "error: [TABLE_OR_VIEW_NOT_FOUND] The table or view `orders_local` cannot be found. Verify the spelling and correctness of the schema and catalog.\n",
            "If you did not qualify the name with a schema, verify the current_schema() output, or qualify the name with the correct schema and catalog.\n",
            "To tolerate the error on drop use DROP VIEW IF EXISTS or DROP TABLE IF EXISTS.; line 1 pos 14;\n",
            "'Project [*]\n",
            "+- 'UnresolvedRelation [orders_local], [], false\n",
            "\n"
          ]
        }
      ]
    },
    {
      "cell_type": "markdown",
      "source": [
        "PART B"
      ],
      "metadata": {
        "id": "tfdkpe3THYTi"
      }
    },
    {
      "cell_type": "code",
      "source": [
        "#1\n",
        "spark.sql(\"select *,quantity*unitprice as totalamount from global_temp.orders_global where category='furniture' and quantity*unitprice>10000\").show()"
      ],
      "metadata": {
        "colab": {
          "base_uri": "https://localhost:8080/"
        },
        "id": "ab9IsN9BHcmd",
        "outputId": "90aa262b-c430-459c-d1ae-0ccabfbaa3a2"
      },
      "execution_count": 18,
      "outputs": [
        {
          "output_type": "stream",
          "name": "stdout",
          "text": [
            "+-------+------------+---------+---------+--------+---------+----------+-----------+\n",
            "|orderid|customername|  product| category|quantity|unitprice| orderdate|totalamount|\n",
            "+-------+------------+---------+---------+--------+---------+----------+-----------+\n",
            "|    203|       kavya|    table|furniture|       1|    12000|2023-01-25|      12000|\n",
            "|    206|      harish|bookshelf|furniture|       5|     7000|2023-01-05|      35000|\n",
            "|    211|     preetha|     sofa|furniture|       1|    15000|2023-02-22|      15000|\n",
            "+-------+------------+---------+---------+--------+---------+----------+-----------+\n",
            "\n"
          ]
        }
      ]
    },
    {
      "cell_type": "code",
      "source": [
        "#2\n",
        "spark.sql(\"select *,case when quantity>3 then 'yes' else 'no' end as discountflag from global_temp.orders_global\").show()"
      ],
      "metadata": {
        "colab": {
          "base_uri": "https://localhost:8080/"
        },
        "id": "jTNb-a21HfBJ",
        "outputId": "45b1dd4a-cba8-4267-c95f-77b79fb34a3d"
      },
      "execution_count": 19,
      "outputs": [
        {
          "output_type": "stream",
          "name": "stdout",
          "text": [
            "+-------+------------+----------+-----------+--------+---------+----------+------------+\n",
            "|orderid|customername|   product|   category|quantity|unitprice| orderdate|discountflag|\n",
            "+-------+------------+----------+-----------+--------+---------+----------+------------+\n",
            "|    201|        yuva|    laptop|electronics|       2|    45000|2023-01-10|          no|\n",
            "|    202|      theshi|     shirt|   clothing|       1|     2000|2023-02-12|          no|\n",
            "|    203|       kavya|     table|  furniture|       1|    12000|2023-01-25|          no|\n",
            "|    204|       priya|smartphone|electronics|       4|    30000|2023-03-01|         yes|\n",
            "|    205|        mani|     chair|  furniture|       2|     4500|2023-02-18|          no|\n",
            "|    206|      harish| bookshelf|  furniture|       5|     7000|2023-01-05|         yes|\n",
            "|    207|      swathi|     novel|      books|       2|      500|2023-01-20|          no|\n",
            "|    208|       priya|   t-shirt|   clothing|       5|     1000|2023-03-10|         yes|\n",
            "|    209|        ravi|    tablet|electronics|       1|    25000|2023-01-15|          no|\n",
            "|    210|      theshi|  notebook|      books|       3|      300|2023-03-03|          no|\n",
            "|    211|     preetha|      sofa|  furniture|       1|    15000|2023-02-22|          no|\n",
            "|    212|         Ram|    jacket|   clothing|       2|     3500|2023-01-30|          no|\n",
            "+-------+------------+----------+-----------+--------+---------+----------+------------+\n",
            "\n"
          ]
        }
      ]
    },
    {
      "cell_type": "code",
      "source": [
        "#3\n",
        "spark.sql(\"select customername,count(distinct category) as categorycount from global_temp.orders_global group by customername having categorycount>1\").show()"
      ],
      "metadata": {
        "colab": {
          "base_uri": "https://localhost:8080/"
        },
        "id": "0s0KFcZcHhYt",
        "outputId": "2d1bb71a-3c54-4b19-8298-93a59025808d"
      },
      "execution_count": 20,
      "outputs": [
        {
          "output_type": "stream",
          "name": "stdout",
          "text": [
            "+------------+-------------+\n",
            "|customername|categorycount|\n",
            "+------------+-------------+\n",
            "|       priya|            2|\n",
            "|      theshi|            2|\n",
            "+------------+-------------+\n",
            "\n"
          ]
        }
      ]
    },
    {
      "cell_type": "code",
      "source": [
        "#4\n",
        "spark.sql(\"select substring(orderdate,1,7) as month,count(*) as ordercount from global_temp.orders_global group by month\").show()"
      ],
      "metadata": {
        "colab": {
          "base_uri": "https://localhost:8080/"
        },
        "id": "7lcnolvZHjz1",
        "outputId": "4952db5b-6351-4738-9f0f-d5ea944e068e"
      },
      "execution_count": 21,
      "outputs": [
        {
          "output_type": "stream",
          "name": "stdout",
          "text": [
            "+-------+----------+\n",
            "|  month|ordercount|\n",
            "+-------+----------+\n",
            "|2023-03|         3|\n",
            "|2023-02|         3|\n",
            "|2023-01|         6|\n",
            "+-------+----------+\n",
            "\n"
          ]
        }
      ]
    },
    {
      "cell_type": "code",
      "source": [
        "#5\n",
        "from pyspark.sql.functions import sum as _sum\n",
        "from pyspark.sql.window import Window\n",
        "from pyspark.sql.functions import rank\n",
        "products_df = spark.sql(\"\"\"\n",
        "    select product, sum(quantity) as totalsold\n",
        "    from global_temp.orders_global\n",
        "    group by product\n",
        "\"\"\")\n",
        "\n",
        "windowSpec = Window.orderBy(col(\"TotalSold\").desc())\n",
        "ranked = products_df.withColumn(\"Rank\", rank().over(windowSpec))\n",
        "ranked.show()"
      ],
      "metadata": {
        "colab": {
          "base_uri": "https://localhost:8080/"
        },
        "id": "-3cPJC-4HmAt",
        "outputId": "322a903d-8777-4d9f-94fa-ed5f7c90066c"
      },
      "execution_count": 23,
      "outputs": [
        {
          "output_type": "stream",
          "name": "stdout",
          "text": [
            "+----------+---------+----+\n",
            "|   product|totalsold|Rank|\n",
            "+----------+---------+----+\n",
            "| bookshelf|        5|   1|\n",
            "|   t-shirt|        5|   1|\n",
            "|smartphone|        4|   3|\n",
            "|  notebook|        3|   4|\n",
            "|    laptop|        2|   5|\n",
            "|     chair|        2|   5|\n",
            "|     novel|        2|   5|\n",
            "|    jacket|        2|   5|\n",
            "|     shirt|        1|   9|\n",
            "|     table|        1|   9|\n",
            "|    tablet|        1|   9|\n",
            "|      sofa|        1|   9|\n",
            "+----------+---------+----+\n",
            "\n"
          ]
        }
      ]
    },
    {
      "cell_type": "code",
      "source": [
        "from pyspark.sql import SparkSession\n",
        "\n",
        "newspark = SparkSession.builder.appName(\"newsession\").getOrCreate()\n",
        "newspark.sql(\"select * from global_temp.orders_global where category='books'\").show()\n"
      ],
      "metadata": {
        "colab": {
          "base_uri": "https://localhost:8080/"
        },
        "id": "gD1f882bHxP2",
        "outputId": "b61dc269-b357-4d5f-e895-2f831b4b2135"
      },
      "execution_count": 28,
      "outputs": [
        {
          "output_type": "stream",
          "name": "stdout",
          "text": [
            "+-------+------------+--------+--------+--------+---------+----------+\n",
            "|orderid|customername| product|category|quantity|unitprice| orderdate|\n",
            "+-------+------------+--------+--------+--------+---------+----------+\n",
            "|    207|      swathi|   novel|   books|       2|      500|2023-01-20|\n",
            "|    210|      theshi|notebook|   books|       3|      300|2023-03-03|\n",
            "+-------+------------+--------+--------+--------+---------+----------+\n",
            "\n"
          ]
        }
      ]
    },
    {
      "cell_type": "markdown",
      "source": [
        "BONUS CHALLENGES"
      ],
      "metadata": {
        "id": "WVc-WPCIISjR"
      }
    },
    {
      "cell_type": "code",
      "source": [
        "booksdf = spark.sql(\"select * from global_temp.orders_global where category='books'\")\n",
        "booksdf.createOrReplaceGlobalTempView(\"books_global\")\n"
      ],
      "metadata": {
        "id": "IQincyB8IQoA"
      },
      "execution_count": 32,
      "outputs": []
    },
    {
      "cell_type": "code",
      "source": [
        "#2\n",
        "from pyspark.sql.window import Window\n",
        "windowspec = Window.partitionBy(\"category\").orderBy(col(\"totalqty\").desc())\n",
        "mostpurchased.withColumn(\"rank\",rank().over(windowspec)) \\\n",
        "  .filter(\"rank=1\") \\\n",
        "  .drop(\"rank\") \\\n",
        "  .show()"
      ],
      "metadata": {
        "colab": {
          "base_uri": "https://localhost:8080/"
        },
        "id": "Tcu9pFeqIbQX",
        "outputId": "10050e3d-3d7f-47f7-d204-814318b04cf2"
      },
      "execution_count": 35,
      "outputs": [
        {
          "output_type": "stream",
          "name": "stdout",
          "text": [
            "+-----------+----------+--------+\n",
            "|   category|   product|totalqty|\n",
            "+-----------+----------+--------+\n",
            "|      books|  notebook|       3|\n",
            "|   clothing|   t-shirt|       5|\n",
            "|electronics|smartphone|       4|\n",
            "|  furniture| bookshelf|       5|\n",
            "+-----------+----------+--------+\n",
            "\n"
          ]
        }
      ]
    },
    {
      "cell_type": "code",
      "source": [
        "filtereddf = spark.sql(\"select * from global_temp.orders_global where category!='clothing'\")\n",
        "filtereddf.createOrReplaceTempView(\"filtered_orders\")\n",
        "spark.sql(\"select distinct category from filtered_orders\").show()\n"
      ],
      "metadata": {
        "colab": {
          "base_uri": "https://localhost:8080/"
        },
        "id": "XFfX615cI7JC",
        "outputId": "77b4f0e1-c8d0-4752-e685-5b79aec57982"
      },
      "execution_count": 38,
      "outputs": [
        {
          "output_type": "stream",
          "name": "stdout",
          "text": [
            "+-----------+\n",
            "|   category|\n",
            "+-----------+\n",
            "|  furniture|\n",
            "|electronics|\n",
            "|      books|\n",
            "+-----------+\n",
            "\n"
          ]
        }
      ]
    }
  ]
}