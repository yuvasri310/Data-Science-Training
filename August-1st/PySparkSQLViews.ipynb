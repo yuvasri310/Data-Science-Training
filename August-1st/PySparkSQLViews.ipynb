{
  "nbformat": 4,
  "nbformat_minor": 0,
  "metadata": {
    "colab": {
      "provenance": []
    },
    "kernelspec": {
      "name": "python3",
      "display_name": "Python 3"
    },
    "language_info": {
      "name": "python"
    }
  },
  "cells": [
    {
      "cell_type": "markdown",
      "source": [
        "PART A"
      ],
      "metadata": {
        "id": "OHLiw6FXMtFX"
      }
    },
    {
      "cell_type": "code",
      "source": [
        "from pyspark.sql import Row\n",
        "\n",
        "data = [\n",
        "    Row(EmpID=101, Name=\"Ravi\", Department=\"Engineering\", Project=\"AI Engine\", Salary=95000, HoursPerWeek=42),\n",
        "    Row(EmpID=102, Name=\"Sneha\", Department=\"Engineering\", Project=\"Data Platform\", Salary=87000, HoursPerWeek=45),\n",
        "    Row(EmpID=103, Name=\"Kabir\", Department=\"Marketing\", Project=\"Product Launch\", Salary=65000, HoursPerWeek=40),\n",
        "    Row(EmpID=104, Name=\"Anita\", Department=\"Sales\", Project=\"Client Outreach\", Salary=70000, HoursPerWeek=38),\n",
        "    Row(EmpID=105, Name=\"Divya\", Department=\"Engineering\", Project=\"AI Engine\", Salary=99000, HoursPerWeek=48),\n",
        "    Row(EmpID=106, Name=\"Amit\", Department=\"Marketing\", Project=\"Social Media\", Salary=62000, HoursPerWeek=35),\n",
        "    Row(EmpID=107, Name=\"Priya\", Department=\"HR\", Project=\"Policy Revamp\", Salary=58000, HoursPerWeek=37),\n",
        "    Row(EmpID=108, Name=\"Manav\", Department=\"Sales\", Project=\"Lead Gen\", Salary=73000, HoursPerWeek=41),\n",
        "    Row(EmpID=109, Name=\"Neha\", Department=\"Engineering\", Project=\"Security Suite\", Salary=91000, HoursPerWeek=46),\n",
        "    Row(EmpID=110, Name=\"Farah\", Department=\"HR\", Project=\"Onboarding\", Salary=60000, HoursPerWeek=36)\n",
        "]\n",
        "\n",
        "df = spark.createDataFrame(data)\n",
        "df.createOrReplaceTempView(\"employees_local\")\n",
        "df.createOrReplaceGlobalTempView(\"employees_global\")\n"
      ],
      "metadata": {
        "id": "qxxi4_vfLZSJ"
      },
      "execution_count": 12,
      "outputs": []
    },
    {
      "cell_type": "code",
      "source": [
        "#1\n",
        "spark.sql(\"SELECT * FROM employees_local WHERE Project = 'AI Engine'\").show()"
      ],
      "metadata": {
        "colab": {
          "base_uri": "https://localhost:8080/"
        },
        "id": "YMWeSFDvLlAd",
        "outputId": "5260197c-b200-4d83-d97d-f2b9ec3f0e87"
      },
      "execution_count": 14,
      "outputs": [
        {
          "output_type": "stream",
          "name": "stdout",
          "text": [
            "+-----+-----+-----------+---------+------+------------+\n",
            "|EmpID| Name| Department|  Project|Salary|HoursPerWeek|\n",
            "+-----+-----+-----------+---------+------+------------+\n",
            "|  101| Ravi|Engineering|AI Engine| 95000|          42|\n",
            "|  105|Divya|Engineering|AI Engine| 99000|          48|\n",
            "+-----+-----+-----------+---------+------+------------+\n",
            "\n"
          ]
        }
      ]
    },
    {
      "cell_type": "code",
      "source": [
        "#2\n",
        "spark.sql(\"SELECT * FROM employees_local WHERE Department = 'Marketing' AND Salary > 60000\").show()\n"
      ],
      "metadata": {
        "colab": {
          "base_uri": "https://localhost:8080/"
        },
        "id": "k4iJ_rC1LeOu",
        "outputId": "f8d26f8f-ec6f-45ab-bbf5-30757ae71ee5"
      },
      "execution_count": 13,
      "outputs": [
        {
          "output_type": "stream",
          "name": "stdout",
          "text": [
            "+-----+-----+----------+--------------+------+------------+\n",
            "|EmpID| Name|Department|       Project|Salary|HoursPerWeek|\n",
            "+-----+-----+----------+--------------+------+------------+\n",
            "|  103|Kabir| Marketing|Product Launch| 65000|          40|\n",
            "|  106| Amit| Marketing|  Social Media| 62000|          35|\n",
            "+-----+-----+----------+--------------+------+------------+\n",
            "\n"
          ]
        }
      ]
    },
    {
      "cell_type": "code",
      "source": [
        "#3\n",
        "spark.sql(\"SELECT Department, AVG(Salary) AS Avg_Salary FROM employees_local GROUP BY Department\").show()"
      ],
      "metadata": {
        "colab": {
          "base_uri": "https://localhost:8080/"
        },
        "id": "gAn29Z6YLpbi",
        "outputId": "17c0857d-8f11-4235-820c-ff8d41a7c0bb"
      },
      "execution_count": 15,
      "outputs": [
        {
          "output_type": "stream",
          "name": "stdout",
          "text": [
            "+-----------+----------+\n",
            "| Department|Avg_Salary|\n",
            "+-----------+----------+\n",
            "|      Sales|   71500.0|\n",
            "|Engineering|   93000.0|\n",
            "|  Marketing|   63500.0|\n",
            "|         HR|   59000.0|\n",
            "+-----------+----------+\n",
            "\n"
          ]
        }
      ]
    },
    {
      "cell_type": "code",
      "source": [
        "#4\n",
        "spark.sql(\"SELECT * FROM employees_local ORDER BY Salary DESC LIMIT 3\").show()"
      ],
      "metadata": {
        "colab": {
          "base_uri": "https://localhost:8080/"
        },
        "id": "JYmBUrEQLsFR",
        "outputId": "e604dd9b-98fa-4e5a-ab18-b192e6a9f7b8"
      },
      "execution_count": 16,
      "outputs": [
        {
          "output_type": "stream",
          "name": "stdout",
          "text": [
            "+-----+-----+-----------+--------------+------+------------+\n",
            "|EmpID| Name| Department|       Project|Salary|HoursPerWeek|\n",
            "+-----+-----+-----------+--------------+------+------------+\n",
            "|  105|Divya|Engineering|     AI Engine| 99000|          48|\n",
            "|  101| Ravi|Engineering|     AI Engine| 95000|          42|\n",
            "|  109| Neha|Engineering|Security Suite| 91000|          46|\n",
            "+-----+-----+-----------+--------------+------+------------+\n",
            "\n"
          ]
        }
      ]
    },
    {
      "cell_type": "code",
      "source": [
        "#5\n",
        "spark.sql(\"SELECT * FROM employees_local WHERE HoursPerWeek > 40\").show()"
      ],
      "metadata": {
        "colab": {
          "base_uri": "https://localhost:8080/"
        },
        "id": "wgfIAWFkLued",
        "outputId": "d8e81d75-d4ca-4781-e0e1-0a1edadc87ee"
      },
      "execution_count": 17,
      "outputs": [
        {
          "output_type": "stream",
          "name": "stdout",
          "text": [
            "+-----+-----+-----------+--------------+------+------------+\n",
            "|EmpID| Name| Department|       Project|Salary|HoursPerWeek|\n",
            "+-----+-----+-----------+--------------+------+------------+\n",
            "|  101| Ravi|Engineering|     AI Engine| 95000|          42|\n",
            "|  102|Sneha|Engineering| Data Platform| 87000|          45|\n",
            "|  105|Divya|Engineering|     AI Engine| 99000|          48|\n",
            "|  108|Manav|      Sales|      Lead Gen| 73000|          41|\n",
            "|  109| Neha|Engineering|Security Suite| 91000|          46|\n",
            "+-----+-----+-----------+--------------+------+------------+\n",
            "\n"
          ]
        }
      ]
    },
    {
      "cell_type": "code",
      "source": [
        "#6\n",
        "spark.sql(\"SELECT Project, COUNT(*) AS Employee_Count FROM employees_local GROUP BY Project\").show()"
      ],
      "metadata": {
        "colab": {
          "base_uri": "https://localhost:8080/"
        },
        "id": "R1J625WMLw77",
        "outputId": "34ff0563-429f-4850-9da1-ccdbbcfa1c3a"
      },
      "execution_count": 18,
      "outputs": [
        {
          "output_type": "stream",
          "name": "stdout",
          "text": [
            "+---------------+--------------+\n",
            "|        Project|Employee_Count|\n",
            "+---------------+--------------+\n",
            "|  Data Platform|             1|\n",
            "|      AI Engine|             2|\n",
            "| Product Launch|             1|\n",
            "|Client Outreach|             1|\n",
            "| Security Suite|             1|\n",
            "|  Policy Revamp|             1|\n",
            "|       Lead Gen|             1|\n",
            "|   Social Media|             1|\n",
            "|     Onboarding|             1|\n",
            "+---------------+--------------+\n",
            "\n"
          ]
        }
      ]
    },
    {
      "cell_type": "code",
      "source": [
        "#7\n",
        "spark.catalog.dropTempView(\"employees_local\")"
      ],
      "metadata": {
        "colab": {
          "base_uri": "https://localhost:8080/"
        },
        "id": "8S9HEZqJLzmZ",
        "outputId": "dc25e050-f00c-430e-8401-2ac21c93be52"
      },
      "execution_count": 19,
      "outputs": [
        {
          "output_type": "execute_result",
          "data": {
            "text/plain": [
              "True"
            ]
          },
          "metadata": {},
          "execution_count": 19
        }
      ]
    },
    {
      "cell_type": "code",
      "source": [
        "#8\n",
        "try:\n",
        "    spark.sql(\"SELECT * FROM employees_local\").show()\n",
        "except Exception as e:\n",
        "    print(\"Error:\", e)"
      ],
      "metadata": {
        "colab": {
          "base_uri": "https://localhost:8080/"
        },
        "id": "PTZUsUKCL12H",
        "outputId": "4bcb5ebe-1962-4b09-dc79-fa7ef225a085"
      },
      "execution_count": 20,
      "outputs": [
        {
          "output_type": "stream",
          "name": "stdout",
          "text": [
            "Error: [TABLE_OR_VIEW_NOT_FOUND] The table or view `employees_local` cannot be found. Verify the spelling and correctness of the schema and catalog.\n",
            "If you did not qualify the name with a schema, verify the current_schema() output, or qualify the name with the correct schema and catalog.\n",
            "To tolerate the error on drop use DROP VIEW IF EXISTS or DROP TABLE IF EXISTS.; line 1 pos 14;\n",
            "'Project [*]\n",
            "+- 'UnresolvedRelation [employees_local], [], false\n",
            "\n"
          ]
        }
      ]
    },
    {
      "cell_type": "markdown",
      "source": [
        " Part B: Exercises on Global View"
      ],
      "metadata": {
        "id": "M-bKiKGxL6n_"
      }
    },
    {
      "cell_type": "code",
      "source": [
        "#1\n",
        "spark.sql(\"SELECT * FROM global_temp.employees_global WHERE Department = 'HR' AND HoursPerWeek < 38\").show()"
      ],
      "metadata": {
        "colab": {
          "base_uri": "https://localhost:8080/"
        },
        "id": "CeLlndvHL8jh",
        "outputId": "297f9b68-3865-4a98-c8da-b7aa48d9c5ee"
      },
      "execution_count": 21,
      "outputs": [
        {
          "output_type": "stream",
          "name": "stdout",
          "text": [
            "+-----+-----+----------+-------------+------+------------+\n",
            "|EmpID| Name|Department|      Project|Salary|HoursPerWeek|\n",
            "+-----+-----+----------+-------------+------+------------+\n",
            "|  107|Priya|        HR|Policy Revamp| 58000|          37|\n",
            "|  110|Farah|        HR|   Onboarding| 60000|          36|\n",
            "+-----+-----+----------+-------------+------+------------+\n",
            "\n"
          ]
        }
      ]
    },
    {
      "cell_type": "code",
      "source": [
        "#2\n",
        "spark.sql(\"SELECT Department, SUM(Salary) AS Total_Payout FROM global_temp.employees_global GROUP BY Department\").show()"
      ],
      "metadata": {
        "colab": {
          "base_uri": "https://localhost:8080/"
        },
        "id": "j4S7fOJEMBKp",
        "outputId": "529a2edc-ee81-40c6-8526-9c612ac4ae8f"
      },
      "execution_count": 22,
      "outputs": [
        {
          "output_type": "stream",
          "name": "stdout",
          "text": [
            "+-----------+------------+\n",
            "| Department|Total_Payout|\n",
            "+-----------+------------+\n",
            "|      Sales|      143000|\n",
            "|Engineering|      372000|\n",
            "|  Marketing|      127000|\n",
            "|         HR|      118000|\n",
            "+-----------+------------+\n",
            "\n"
          ]
        }
      ]
    },
    {
      "cell_type": "code",
      "source": [
        "#3\n",
        "spark.sql(\"\"\"\n",
        "SELECT *,\n",
        "  CASE\n",
        "    WHEN HoursPerWeek > 45 THEN 'Overworked'\n",
        "    ELSE 'Normal'\n",
        "  END AS Status\n",
        "FROM global_temp.employees_global\n",
        "\"\"\").show()"
      ],
      "metadata": {
        "colab": {
          "base_uri": "https://localhost:8080/"
        },
        "id": "1Cs8hXYaMDZc",
        "outputId": "67f9ed1c-2d15-49a2-ba34-56f53b9963b1"
      },
      "execution_count": 23,
      "outputs": [
        {
          "output_type": "stream",
          "name": "stdout",
          "text": [
            "+-----+-----+-----------+---------------+------+------------+----------+\n",
            "|EmpID| Name| Department|        Project|Salary|HoursPerWeek|    Status|\n",
            "+-----+-----+-----------+---------------+------+------------+----------+\n",
            "|  101| Ravi|Engineering|      AI Engine| 95000|          42|    Normal|\n",
            "|  102|Sneha|Engineering|  Data Platform| 87000|          45|    Normal|\n",
            "|  103|Kabir|  Marketing| Product Launch| 65000|          40|    Normal|\n",
            "|  104|Anita|      Sales|Client Outreach| 70000|          38|    Normal|\n",
            "|  105|Divya|Engineering|      AI Engine| 99000|          48|Overworked|\n",
            "|  106| Amit|  Marketing|   Social Media| 62000|          35|    Normal|\n",
            "|  107|Priya|         HR|  Policy Revamp| 58000|          37|    Normal|\n",
            "|  108|Manav|      Sales|       Lead Gen| 73000|          41|    Normal|\n",
            "|  109| Neha|Engineering| Security Suite| 91000|          46|Overworked|\n",
            "|  110|Farah|         HR|     Onboarding| 60000|          36|    Normal|\n",
            "+-----+-----+-----------+---------------+------+------------+----------+\n",
            "\n"
          ]
        }
      ]
    },
    {
      "cell_type": "code",
      "source": [
        "#4\n",
        "spark.sql(\"SELECT Project, COUNT(*) AS Employee_Count FROM global_temp.employees_global GROUP BY Project\").show()"
      ],
      "metadata": {
        "colab": {
          "base_uri": "https://localhost:8080/"
        },
        "id": "tTHZOovqMGAk",
        "outputId": "105366b8-813b-4ffd-9d4a-48fb7c3b720c"
      },
      "execution_count": 24,
      "outputs": [
        {
          "output_type": "stream",
          "name": "stdout",
          "text": [
            "+---------------+--------------+\n",
            "|        Project|Employee_Count|\n",
            "+---------------+--------------+\n",
            "|  Data Platform|             1|\n",
            "|      AI Engine|             2|\n",
            "| Product Launch|             1|\n",
            "|Client Outreach|             1|\n",
            "| Security Suite|             1|\n",
            "|  Policy Revamp|             1|\n",
            "|       Lead Gen|             1|\n",
            "|   Social Media|             1|\n",
            "|     Onboarding|             1|\n",
            "+---------------+--------------+\n",
            "\n"
          ]
        }
      ]
    },
    {
      "cell_type": "code",
      "source": [
        "#5\n",
        "spark.sql(\"\"\"\n",
        "WITH dept_avg AS (\n",
        "  SELECT Department, AVG(Salary) AS AvgSal\n",
        "  FROM global_temp.employees_global\n",
        "  GROUP BY Department\n",
        ")\n",
        "SELECT e.*\n",
        "FROM global_temp.employees_global e\n",
        "JOIN dept_avg d ON e.Department = d.Department\n",
        "WHERE e.Salary > d.AvgSal\n",
        "\"\"\").show()"
      ],
      "metadata": {
        "colab": {
          "base_uri": "https://localhost:8080/"
        },
        "id": "-5MAMoG0MIq8",
        "outputId": "d3540715-5833-445a-e16d-6510b2087649"
      },
      "execution_count": 25,
      "outputs": [
        {
          "output_type": "stream",
          "name": "stdout",
          "text": [
            "+-----+-----+-----------+--------------+------+------------+\n",
            "|EmpID| Name| Department|       Project|Salary|HoursPerWeek|\n",
            "+-----+-----+-----------+--------------+------+------------+\n",
            "|  101| Ravi|Engineering|     AI Engine| 95000|          42|\n",
            "|  105|Divya|Engineering|     AI Engine| 99000|          48|\n",
            "|  103|Kabir|  Marketing|Product Launch| 65000|          40|\n",
            "|  108|Manav|      Sales|      Lead Gen| 73000|          41|\n",
            "|  110|Farah|         HR|    Onboarding| 60000|          36|\n",
            "+-----+-----+-----------+--------------+------+------------+\n",
            "\n"
          ]
        }
      ]
    },
    {
      "cell_type": "code",
      "source": [
        "#6\n",
        "from pyspark.sql import SparkSession\n",
        "new_spark = SparkSession.builder.getOrCreate()\n",
        "new_spark.sql(\"SELECT * FROM global_temp.employees_global\").show()"
      ],
      "metadata": {
        "colab": {
          "base_uri": "https://localhost:8080/"
        },
        "id": "2Wm-OzxFMLhQ",
        "outputId": "1151091c-b48a-4f95-a658-864fbb1d28ab"
      },
      "execution_count": 26,
      "outputs": [
        {
          "output_type": "stream",
          "name": "stdout",
          "text": [
            "+-----+-----+-----------+---------------+------+------------+\n",
            "|EmpID| Name| Department|        Project|Salary|HoursPerWeek|\n",
            "+-----+-----+-----------+---------------+------+------------+\n",
            "|  101| Ravi|Engineering|      AI Engine| 95000|          42|\n",
            "|  102|Sneha|Engineering|  Data Platform| 87000|          45|\n",
            "|  103|Kabir|  Marketing| Product Launch| 65000|          40|\n",
            "|  104|Anita|      Sales|Client Outreach| 70000|          38|\n",
            "|  105|Divya|Engineering|      AI Engine| 99000|          48|\n",
            "|  106| Amit|  Marketing|   Social Media| 62000|          35|\n",
            "|  107|Priya|         HR|  Policy Revamp| 58000|          37|\n",
            "|  108|Manav|      Sales|       Lead Gen| 73000|          41|\n",
            "|  109| Neha|Engineering| Security Suite| 91000|          46|\n",
            "|  110|Farah|         HR|     Onboarding| 60000|          36|\n",
            "+-----+-----+-----------+---------------+------+------------+\n",
            "\n"
          ]
        }
      ]
    },
    {
      "cell_type": "code",
      "source": [
        "#1\n",
        "from pyspark.sql.window import Window\n",
        "from pyspark.sql.functions import rank, col\n",
        "\n",
        "windowSpec = Window.partitionBy(\"Department\").orderBy(col(\"Salary\").desc())\n",
        "ranked_df = spark.table(\"global_temp.employees_global\") \\\n",
        "                 .withColumn(\"Rank\", rank().over(windowSpec))\n",
        "ranked_df.select(\"EmpID\", \"Name\", \"Department\", \"Salary\", \"Rank\").show()"
      ],
      "metadata": {
        "colab": {
          "base_uri": "https://localhost:8080/"
        },
        "id": "FyNfbKc7M1sy",
        "outputId": "ef8b84e9-63d1-4f8d-be1c-eca96e3adaaf"
      },
      "execution_count": 28,
      "outputs": [
        {
          "output_type": "stream",
          "name": "stdout",
          "text": [
            "+-----+-----+-----------+------+----+\n",
            "|EmpID| Name| Department|Salary|Rank|\n",
            "+-----+-----+-----------+------+----+\n",
            "|  105|Divya|Engineering| 99000|   1|\n",
            "|  101| Ravi|Engineering| 95000|   2|\n",
            "|  109| Neha|Engineering| 91000|   3|\n",
            "|  102|Sneha|Engineering| 87000|   4|\n",
            "|  110|Farah|         HR| 60000|   1|\n",
            "|  107|Priya|         HR| 58000|   2|\n",
            "|  103|Kabir|  Marketing| 65000|   1|\n",
            "|  106| Amit|  Marketing| 62000|   2|\n",
            "|  108|Manav|      Sales| 73000|   1|\n",
            "|  104|Anita|      Sales| 70000|   2|\n",
            "+-----+-----+-----------+------+----+\n",
            "\n"
          ]
        }
      ]
    },
    {
      "cell_type": "code",
      "source": [
        "#2\n",
        "engineering_df = spark.table(\"global_temp.employees_global\").filter(col(\"Department\") == \"Engineering\")\n",
        "engineering_df.createOrReplaceTempView(\"engineering_employees\")\n",
        "spark.sql(\"SELECT * FROM engineering_employees\").show()"
      ],
      "metadata": {
        "colab": {
          "base_uri": "https://localhost:8080/"
        },
        "id": "hctDZF9sM8uF",
        "outputId": "91a6c8da-a5fc-42bd-bd7e-2b17865244d2"
      },
      "execution_count": 29,
      "outputs": [
        {
          "output_type": "stream",
          "name": "stdout",
          "text": [
            "+-----+-----+-----------+--------------+------+------------+\n",
            "|EmpID| Name| Department|       Project|Salary|HoursPerWeek|\n",
            "+-----+-----+-----------+--------------+------+------------+\n",
            "|  101| Ravi|Engineering|     AI Engine| 95000|          42|\n",
            "|  102|Sneha|Engineering| Data Platform| 87000|          45|\n",
            "|  105|Divya|Engineering|     AI Engine| 99000|          48|\n",
            "|  109| Neha|Engineering|Security Suite| 91000|          46|\n",
            "+-----+-----+-----------+--------------+------+------------+\n",
            "\n"
          ]
        }
      ]
    },
    {
      "cell_type": "code",
      "source": [
        "#3\n",
        "active_df = spark.table(\"global_temp.employees_global\").filter(col(\"HoursPerWeek\") >= 38)\n",
        "active_df.createOrReplaceTempView(\"active_employees\")\n",
        "spark.sql(\"SELECT * FROM active_employees\").show()"
      ],
      "metadata": {
        "colab": {
          "base_uri": "https://localhost:8080/"
        },
        "id": "6hDv0i1dM_6x",
        "outputId": "1fc9f8af-e3f4-4689-8300-67fc902296b5"
      },
      "execution_count": 30,
      "outputs": [
        {
          "output_type": "stream",
          "name": "stdout",
          "text": [
            "+-----+-----+-----------+---------------+------+------------+\n",
            "|EmpID| Name| Department|        Project|Salary|HoursPerWeek|\n",
            "+-----+-----+-----------+---------------+------+------------+\n",
            "|  101| Ravi|Engineering|      AI Engine| 95000|          42|\n",
            "|  102|Sneha|Engineering|  Data Platform| 87000|          45|\n",
            "|  103|Kabir|  Marketing| Product Launch| 65000|          40|\n",
            "|  104|Anita|      Sales|Client Outreach| 70000|          38|\n",
            "|  105|Divya|Engineering|      AI Engine| 99000|          48|\n",
            "|  108|Manav|      Sales|       Lead Gen| 73000|          41|\n",
            "|  109| Neha|Engineering| Security Suite| 91000|          46|\n",
            "+-----+-----+-----------+---------------+------+------------+\n",
            "\n"
          ]
        }
      ]
    }
  ]
}