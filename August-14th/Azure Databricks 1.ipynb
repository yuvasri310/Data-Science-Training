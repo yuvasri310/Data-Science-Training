{
 "cells": [
  {
   "cell_type": "code",
   "execution_count": 0,
   "metadata": {
    "application/vnd.databricks.v1+cell": {
     "cellMetadata": {
      "byteLimit": 2048000,
      "rowLimit": 10000
     },
     "inputWidgets": {},
     "nuid": "8f87e1b7-3a03-4bdd-9698-c469ef0f2647",
     "showTitle": false,
     "tableResultSettingsMap": {},
     "title": ""
    }
   },
   "outputs": [],
   "source": [
    "from pyspark.sql import SparkSession\n",
    "from delta import configure_spark_with_delta_pip\n",
    "\n",
    "builder = (\n",
    "    SparkSession.builder.appName(\"DeltaDemo\")\n",
    "    .config(\"spark.sql.extensions\", \"io.delta.sql.DeltaSparkSessionExtension\")\n",
    "    .config(\"spark.sql.catalog.spark_catalog\", \"org.apache.spark.sql.delta.catalog.DeltaCatalog\")\n",
    ")\n",
    "spark = configure_spark_with_delta_pip(builder).getOrCreate()"
   ]
  },
  {
   "cell_type": "code",
   "execution_count": 0,
   "metadata": {
    "application/vnd.databricks.v1+cell": {
     "cellMetadata": {
      "byteLimit": 2048000,
      "rowLimit": 10000
     },
     "inputWidgets": {},
     "nuid": "2ab923e2-aed4-4888-a293-e46e8efd2d2a",
     "showTitle": false,
     "tableResultSettingsMap": {},
     "title": ""
    }
   },
   "outputs": [
    {
     "name": "stdout",
     "output_type": "stream",
     "text": [
      "+--------+-------------+-----------+--------+------+\n",
      "|order_id|customer_name|   category|quantity|amount|\n",
      "+--------+-------------+-----------+--------+------+\n",
      "|       1|         John|Electronics|       2|   300|\n",
      "|       2|         Sara|   Clothing|       1|    50|\n",
      "|       3|         Mike|Electronics|       4|   600|\n",
      "|       4|         Nina|   Clothing|       3|   150|\n",
      "+--------+-------------+-----------+--------+------+\n",
      "\n"
     ]
    }
   ],
   "source": [
    "data = [\n",
    "    (1, \"John\", \"Electronics\", 2, 300),\n",
    "    (2, \"Sara\", \"Clothing\", 1, 50),\n",
    "    (3, \"Mike\", \"Electronics\", 4, 600),\n",
    "    (4, \"Nina\", \"Clothing\", 3, 150),\n",
    "]\n",
    "columns = [\"order_id\", \"customer_name\", \"category\", \"quantity\", \"amount\"]\n",
    "\n",
    "df = spark.createDataFrame(data, columns)\n",
    "\n",
    "# Save as Delta\n",
    "# Save Delta table to DBFS tmp folder\n",
    "df.write.format(\"delta\").mode(\"overwrite\").save(\"/dbfs/tmp/orders_delta\")\n",
    "\n",
    "# Read it back\n",
    "df2 = spark.read.format(\"delta\").load(\"/dbfs/tmp/orders_delta\")\n",
    "df2.show()\n"
   ]
  },
  {
   "cell_type": "code",
   "execution_count": 0,
   "metadata": {
    "application/vnd.databricks.v1+cell": {
     "cellMetadata": {
      "byteLimit": 2048000,
      "rowLimit": 10000
     },
     "inputWidgets": {},
     "nuid": "5196f3d5-82b3-4d84-9828-9b8118e8f912",
     "showTitle": false,
     "tableResultSettingsMap": {},
     "title": ""
    }
   },
   "outputs": [
    {
     "data": {
      "text/plain": [
       "DataFrame[]"
      ]
     },
     "execution_count": 11,
     "metadata": {},
     "output_type": "execute_result"
    }
   ],
   "source": [
    "spark.sql(\"DROP TABLE IF EXISTS orders_managed\")\n",
    "spark.sql(\"DROP TABLE IF EXISTS orders_unmanaged\")"
   ]
  },
  {
   "cell_type": "markdown",
   "metadata": {},
   "source": [
    "1. Managed vs Unmanaged Tables"
   ]
  },
  {
   "cell_type": "code",
   "execution_count": 0,
   "metadata": {
    "application/vnd.databricks.v1+cell": {
     "cellMetadata": {
      "byteLimit": 2048000,
      "implicitDf": true,
      "rowLimit": 10000
     },
     "inputWidgets": {},
     "nuid": "29667a1f-3b26-4a5a-8c23-0d47efce26ed",
     "showTitle": false,
     "tableResultSettingsMap": {},
     "title": ""
    }
   },
   "outputs": [
    {
     "data": {
      "text/plain": [
       "DataFrame[num_affected_rows: bigint, num_inserted_rows: bigint]"
      ]
     },
     "execution_count": 12,
     "metadata": {},
     "output_type": "execute_result"
    }
   ],
   "source": [
    "\n",
    "spark.sql(\"\"\"\n",
    "    CREATE TABLE orders_managed\n",
    "    USING DELTA\n",
    "    AS SELECT * FROM delta.`dbfs:/tmp/orders_delta`\n",
    "\"\"\")\n",
    "\n"
   ]
  },
  {
   "cell_type": "code",
   "execution_count": 0,
   "metadata": {
    "application/vnd.databricks.v1+cell": {
     "cellMetadata": {},
     "inputWidgets": {},
     "nuid": "604109e1-ce8d-4852-ad99-26c2822c75e6",
     "showTitle": false,
     "tableResultSettingsMap": {},
     "title": ""
    }
   },
   "outputs": [],
   "source": [
    "spark.sql(\"\"\"\n",
    "CREATE TABLE orders_unmanaged\n",
    "USING DELTA\n",
    "LOCATION '/tmp/orders_delta'\n",
    "\"\"\")\n"
   ]
  },
  {
   "cell_type": "markdown",
   "metadata": {
    "application/vnd.databricks.v1+cell": {
     "cellMetadata": {},
     "inputWidgets": {},
     "nuid": "3bef3973-a03b-4948-9525-00436edbef91",
     "showTitle": false,
     "tableResultSettingsMap": {},
     "title": ""
    }
   },
   "source": [
    "2. CRUD Operations"
   ]
  },
  {
   "cell_type": "code",
   "execution_count": 0,
   "metadata": {
    "application/vnd.databricks.v1+cell": {
     "cellMetadata": {
      "byteLimit": 2048000,
      "rowLimit": 10000
     },
     "inputWidgets": {},
     "nuid": "2cfba0c2-faab-4ace-a48a-f1eda1557ae8",
     "showTitle": false,
     "tableResultSettingsMap": {},
     "title": ""
    }
   },
   "outputs": [
    {
     "data": {
      "text/html": [
       "<style scoped>\n",
       "  .table-result-container {\n",
       "    max-height: 300px;\n",
       "    overflow: auto;\n",
       "  }\n",
       "  table, th, td {\n",
       "    border: 1px solid black;\n",
       "    border-collapse: collapse;\n",
       "  }\n",
       "  th, td {\n",
       "    padding: 5px;\n",
       "  }\n",
       "  th {\n",
       "    text-align: left;\n",
       "  }\n",
       "</style><div class='table-result-container'><table class='table-result'><thead style='background-color: white'><tr><th>order_id</th><th>customer_name</th><th>category</th><th>quantity</th><th>amount</th></tr></thead><tbody><tr><td>4</td><td>Nina</td><td>Clothing</td><td>3</td><td>170</td></tr><tr><td>3</td><td>Mike</td><td>Electronics</td><td>4</td><td>600</td></tr><tr><td>1</td><td>Alice</td><td>Clothing</td><td>3</td><td>250</td></tr><tr><td>5</td><td>Tom</td><td>Electronics</td><td>1</td><td>300</td></tr><tr><td>6</td><td>Jerry</td><td>Furniture</td><td>2</td><td>500</td></tr></tbody></table></div>"
      ]
     },
     "metadata": {
      "application/vnd.databricks.v1+output": {
       "addedWidgets": {},
       "aggData": [],
       "aggError": "",
       "aggOverflow": false,
       "aggSchema": [],
       "aggSeriesLimitReached": false,
       "aggType": "",
       "arguments": {},
       "columnCustomDisplayInfos": {},
       "data": [
        [
         4,
         "Nina",
         "Clothing",
         3,
         170
        ],
        [
         3,
         "Mike",
         "Electronics",
         4,
         600
        ],
        [
         1,
         "Alice",
         "Clothing",
         3,
         250
        ],
        [
         5,
         "Tom",
         "Electronics",
         1,
         300
        ],
        [
         6,
         "Jerry",
         "Furniture",
         2,
         500
        ]
       ],
       "datasetInfos": [],
       "dbfsResultPath": null,
       "isJsonSchema": true,
       "metadata": {},
       "overflow": false,
       "plotOptions": {
        "customPlotOptions": {},
        "displayType": "table",
        "pivotAggregation": null,
        "pivotColumns": null,
        "xColumns": null,
        "yColumns": null
       },
       "removedWidgets": [],
       "schema": [
        {
         "metadata": "{}",
         "name": "order_id",
         "type": "\"long\""
        },
        {
         "metadata": "{}",
         "name": "customer_name",
         "type": "\"string\""
        },
        {
         "metadata": "{}",
         "name": "category",
         "type": "\"string\""
        },
        {
         "metadata": "{}",
         "name": "quantity",
         "type": "\"long\""
        },
        {
         "metadata": "{}",
         "name": "amount",
         "type": "\"long\""
        }
       ],
       "type": "table"
      }
     },
     "output_type": "display_data"
    }
   ],
   "source": [
    "from pyspark.sql import functions as F\n",
    "\n",
    "# Read from the table\n",
    "df = spark.table(\"orders_managed\")\n",
    "display(df)\n",
    "\n"
   ]
  },
  {
   "cell_type": "code",
   "execution_count": 0,
   "metadata": {
    "application/vnd.databricks.v1+cell": {
     "cellMetadata": {
      "byteLimit": 2048000,
      "rowLimit": 10000
     },
     "inputWidgets": {},
     "nuid": "3ba1d84e-19a1-4cca-b320-72ac1b909f0a",
     "showTitle": false,
     "tableResultSettingsMap": {},
     "title": ""
    }
   },
   "outputs": [
    {
     "data": {
      "text/html": [
       "<style scoped>\n",
       "  .table-result-container {\n",
       "    max-height: 300px;\n",
       "    overflow: auto;\n",
       "  }\n",
       "  table, th, td {\n",
       "    border: 1px solid black;\n",
       "    border-collapse: collapse;\n",
       "  }\n",
       "  th, td {\n",
       "    padding: 5px;\n",
       "  }\n",
       "  th {\n",
       "    text-align: left;\n",
       "  }\n",
       "</style><div class='table-result-container'><table class='table-result'><thead style='background-color: white'><tr><th>order_id</th><th>customer_name</th><th>category</th><th>quantity</th><th>amount</th></tr></thead><tbody><tr><td>3</td><td>Mike</td><td>Electronics</td><td>4</td><td>600</td></tr><tr><td>6</td><td>Jerry</td><td>Furniture</td><td>2</td><td>500</td></tr><tr><td>4</td><td>Nina</td><td>Clothing</td><td>3</td><td>210</td></tr><tr><td>1</td><td>Alice</td><td>Clothing</td><td>3</td><td>290</td></tr></tbody></table></div>"
      ]
     },
     "metadata": {
      "application/vnd.databricks.v1+output": {
       "addedWidgets": {},
       "aggData": [],
       "aggError": "",
       "aggOverflow": false,
       "aggSchema": [],
       "aggSeriesLimitReached": false,
       "aggType": "",
       "arguments": {},
       "columnCustomDisplayInfos": {},
       "data": [
        [
         3,
         "Mike",
         "Electronics",
         4,
         600
        ],
        [
         6,
         "Jerry",
         "Furniture",
         2,
         500
        ],
        [
         4,
         "Nina",
         "Clothing",
         3,
         210
        ],
        [
         1,
         "Alice",
         "Clothing",
         3,
         290
        ]
       ],
       "datasetInfos": [],
       "dbfsResultPath": null,
       "isJsonSchema": true,
       "metadata": {},
       "overflow": false,
       "plotOptions": {
        "customPlotOptions": {},
        "displayType": "table",
        "pivotAggregation": null,
        "pivotColumns": null,
        "xColumns": null,
        "yColumns": null
       },
       "removedWidgets": [],
       "schema": [
        {
         "metadata": "{}",
         "name": "order_id",
         "type": "\"long\""
        },
        {
         "metadata": "{}",
         "name": "customer_name",
         "type": "\"string\""
        },
        {
         "metadata": "{}",
         "name": "category",
         "type": "\"string\""
        },
        {
         "metadata": "{}",
         "name": "quantity",
         "type": "\"long\""
        },
        {
         "metadata": "{}",
         "name": "amount",
         "type": "\"long\""
        }
       ],
       "type": "table"
      }
     },
     "output_type": "display_data"
    }
   ],
   "source": [
    "# UPDATE: Clothing → amount + 20\n",
    "spark.sql(\"\"\"\n",
    "UPDATE orders_managed\n",
    "SET amount = amount + 20\n",
    "WHERE category = 'Clothing'\n",
    "\"\"\")\n",
    "display(df)"
   ]
  },
  {
   "cell_type": "code",
   "execution_count": 0,
   "metadata": {
    "application/vnd.databricks.v1+cell": {
     "cellMetadata": {
      "byteLimit": 2048000,
      "rowLimit": 10000
     },
     "inputWidgets": {},
     "nuid": "b398c2dd-a2e0-4350-8586-aeb1f13727f1",
     "showTitle": false,
     "tableResultSettingsMap": {},
     "title": ""
    }
   },
   "outputs": [
    {
     "data": {
      "text/html": [
       "<style scoped>\n",
       "  .table-result-container {\n",
       "    max-height: 300px;\n",
       "    overflow: auto;\n",
       "  }\n",
       "  table, th, td {\n",
       "    border: 1px solid black;\n",
       "    border-collapse: collapse;\n",
       "  }\n",
       "  th, td {\n",
       "    padding: 5px;\n",
       "  }\n",
       "  th {\n",
       "    text-align: left;\n",
       "  }\n",
       "</style><div class='table-result-container'><table class='table-result'><thead style='background-color: white'><tr><th>order_id</th><th>customer_name</th><th>category</th><th>quantity</th><th>amount</th></tr></thead><tbody><tr><td>4</td><td>Nina</td><td>Clothing</td><td>3</td><td>210</td></tr><tr><td>1</td><td>Alice</td><td>Clothing</td><td>3</td><td>290</td></tr><tr><td>3</td><td>Mike</td><td>Electronics</td><td>4</td><td>600</td></tr><tr><td>6</td><td>Jerry</td><td>Furniture</td><td>2</td><td>500</td></tr></tbody></table></div>"
      ]
     },
     "metadata": {
      "application/vnd.databricks.v1+output": {
       "addedWidgets": {},
       "aggData": [],
       "aggError": "",
       "aggOverflow": false,
       "aggSchema": [],
       "aggSeriesLimitReached": false,
       "aggType": "",
       "arguments": {},
       "columnCustomDisplayInfos": {},
       "data": [
        [
         4,
         "Nina",
         "Clothing",
         3,
         210
        ],
        [
         1,
         "Alice",
         "Clothing",
         3,
         290
        ],
        [
         3,
         "Mike",
         "Electronics",
         4,
         600
        ],
        [
         6,
         "Jerry",
         "Furniture",
         2,
         500
        ]
       ],
       "datasetInfos": [],
       "dbfsResultPath": null,
       "isJsonSchema": true,
       "metadata": {},
       "overflow": false,
       "plotOptions": {
        "customPlotOptions": {},
        "displayType": "table",
        "pivotAggregation": null,
        "pivotColumns": null,
        "xColumns": null,
        "yColumns": null
       },
       "removedWidgets": [],
       "schema": [
        {
         "metadata": "{}",
         "name": "order_id",
         "type": "\"long\""
        },
        {
         "metadata": "{}",
         "name": "customer_name",
         "type": "\"string\""
        },
        {
         "metadata": "{}",
         "name": "category",
         "type": "\"string\""
        },
        {
         "metadata": "{}",
         "name": "quantity",
         "type": "\"long\""
        },
        {
         "metadata": "{}",
         "name": "amount",
         "type": "\"long\""
        }
       ],
       "type": "table"
      }
     },
     "output_type": "display_data"
    }
   ],
   "source": [
    "# DELETE: Remove quantity < 2\n",
    "spark.sql(\"\"\"\n",
    "DELETE FROM orders_managed\n",
    "WHERE quantity < 2\n",
    "\"\"\")\n",
    "display(df)\n"
   ]
  },
  {
   "cell_type": "code",
   "execution_count": 0,
   "metadata": {
    "application/vnd.databricks.v1+cell": {
     "cellMetadata": {
      "byteLimit": 2048000,
      "rowLimit": 10000
     },
     "inputWidgets": {},
     "nuid": "899465a3-4320-4f2e-b95a-e62206d7e020",
     "showTitle": false,
     "tableResultSettingsMap": {},
     "title": ""
    }
   },
   "outputs": [
    {
     "data": {
      "text/html": [
       "<style scoped>\n",
       "  .table-result-container {\n",
       "    max-height: 300px;\n",
       "    overflow: auto;\n",
       "  }\n",
       "  table, th, td {\n",
       "    border: 1px solid black;\n",
       "    border-collapse: collapse;\n",
       "  }\n",
       "  th, td {\n",
       "    padding: 5px;\n",
       "  }\n",
       "  th {\n",
       "    text-align: left;\n",
       "  }\n",
       "</style><div class='table-result-container'><table class='table-result'><thead style='background-color: white'><tr><th>order_id</th><th>customer_name</th><th>category</th><th>quantity</th><th>amount</th></tr></thead><tbody><tr><td>4</td><td>Nina</td><td>Clothing</td><td>3</td><td>210</td></tr><tr><td>3</td><td>Mike</td><td>Electronics</td><td>4</td><td>600</td></tr><tr><td>5</td><td>Tom</td><td>Electronics</td><td>1</td><td>300</td></tr><tr><td>6</td><td>Jerry</td><td>Furniture</td><td>2</td><td>500</td></tr><tr><td>1</td><td>Alice</td><td>Clothing</td><td>3</td><td>250</td></tr></tbody></table></div>"
      ]
     },
     "metadata": {
      "application/vnd.databricks.v1+output": {
       "addedWidgets": {},
       "aggData": [],
       "aggError": "",
       "aggOverflow": false,
       "aggSchema": [],
       "aggSeriesLimitReached": false,
       "aggType": "",
       "arguments": {},
       "columnCustomDisplayInfos": {},
       "data": [
        [
         4,
         "Nina",
         "Clothing",
         3,
         210
        ],
        [
         3,
         "Mike",
         "Electronics",
         4,
         600
        ],
        [
         5,
         "Tom",
         "Electronics",
         1,
         300
        ],
        [
         6,
         "Jerry",
         "Furniture",
         2,
         500
        ],
        [
         1,
         "Alice",
         "Clothing",
         3,
         250
        ]
       ],
       "datasetInfos": [],
       "dbfsResultPath": null,
       "isJsonSchema": true,
       "metadata": {},
       "overflow": false,
       "plotOptions": {
        "customPlotOptions": {},
        "displayType": "table",
        "pivotAggregation": null,
        "pivotColumns": null,
        "xColumns": null,
        "yColumns": null
       },
       "removedWidgets": [],
       "schema": [
        {
         "metadata": "{}",
         "name": "order_id",
         "type": "\"long\""
        },
        {
         "metadata": "{}",
         "name": "customer_name",
         "type": "\"string\""
        },
        {
         "metadata": "{}",
         "name": "category",
         "type": "\"string\""
        },
        {
         "metadata": "{}",
         "name": "quantity",
         "type": "\"long\""
        },
        {
         "metadata": "{}",
         "name": "amount",
         "type": "\"long\""
        }
       ],
       "type": "table"
      }
     },
     "output_type": "display_data"
    }
   ],
   "source": [
    "# MERGE: New & Updated Orders\n",
    "from pyspark.sql import Row\n",
    "\n",
    "new_data = [\n",
    "    Row(order_id=1, customer_name=\"Alice\", category=\"Clothing\", quantity=3, amount=250),  # updated\n",
    "    Row(order_id=5, customer_name=\"Tom\", category=\"Electronics\", quantity=1, amount=300), # new\n",
    "    Row(order_id=6, customer_name=\"Jerry\", category=\"Furniture\", quantity=2, amount=500)  # new\n",
    "]\n",
    "new_df = spark.createDataFrame(new_data)\n",
    "\n",
    "new_df.createOrReplaceTempView(\"updates\")\n",
    "\n",
    "spark.sql(\"\"\"\n",
    "MERGE INTO orders_managed AS target\n",
    "USING updates AS source\n",
    "ON target.order_id = source.order_id\n",
    "WHEN MATCHED THEN UPDATE SET *\n",
    "WHEN NOT MATCHED THEN INSERT *\n",
    "\"\"\")\n",
    "display(df)"
   ]
  },
  {
   "cell_type": "markdown",
   "metadata": {
    "application/vnd.databricks.v1+cell": {
     "cellMetadata": {},
     "inputWidgets": {},
     "nuid": "a32a8107-8ec0-4f5c-bde5-1038ccd4ca54",
     "showTitle": false,
     "tableResultSettingsMap": {},
     "title": ""
    }
   },
   "source": [
    "3. History & Time Travel"
   ]
  },
  {
   "cell_type": "code",
   "execution_count": 0,
   "metadata": {
    "application/vnd.databricks.v1+cell": {
     "cellMetadata": {
      "byteLimit": 2048000,
      "rowLimit": 10000
     },
     "inputWidgets": {},
     "nuid": "bade576b-1a66-40fb-89b4-3ffca1ed77ea",
     "showTitle": false,
     "tableResultSettingsMap": {},
     "title": ""
    }
   },
   "outputs": [
    {
     "name": "stdout",
     "output_type": "stream",
     "text": [
      "+-------+-----------------------+---------------+----------------------------------+----------------------+----------------------------------------------------------------------------------------------------------------------------------------------------------------------------------------------------------------------------------+----+------------------+--------------------+-----------+-----------------+-------------+-------------------------------------------------------------------------------------------------------------------------------------------------------------------------------------------------------------------------------------------------------------------------------------------------------------------------------------------------------------------------------------------------------------------------------------------------------------------------------------------------------------------------------------------------------------------------------------------------------------------------------------------------------------------------------------+------------+------------------------------------------+\n",
      "|version|timestamp              |userId         |userName                          |operation             |operationParameters                                                                                                                                                                                                               |job |notebook          |clusterId           |readVersion|isolationLevel   |isBlindAppend|operationMetrics                                                                                                                                                                                                                                                                                                                                                                                                                                                                                                                                                                                                                                                                     |userMetadata|engineInfo                                |\n",
      "+-------+-----------------------+---------------+----------------------------------+----------------------+----------------------------------------------------------------------------------------------------------------------------------------------------------------------------------------------------------------------------------+----+------------------+--------------------+-----------+-----------------+-------------+-------------------------------------------------------------------------------------------------------------------------------------------------------------------------------------------------------------------------------------------------------------------------------------------------------------------------------------------------------------------------------------------------------------------------------------------------------------------------------------------------------------------------------------------------------------------------------------------------------------------------------------------------------------------------------------+------------+------------------------------------------+\n",
      "|16     |2025-08-14 05:52:03    |149052920012809|azuser4012_mml.local@techademy.com|OPTIMIZE              |{predicate -> [], auto -> true, clusterBy -> [], zOrderBy -> [], batchId -> 0}                                                                                                                                                    |NULL|{1364532786276869}|0806-113651-tuywd28y|15         |SnapshotIsolation|false        |{numRemovedFiles -> 4, numRemovedBytes -> 6151, p25FileSize -> 1678, numDeletionVectorsRemoved -> 1, minFileSize -> 1678, numAddedFiles -> 1, maxFileSize -> 1678, p75FileSize -> 1678, p50FileSize -> 1678, numAddedBytes -> 1678}                                                                                                                                                                                                                                                                                                                                                                                                                                                  |NULL        |Databricks-Runtime/16.4.x-photon-scala2.12|\n",
      "|15     |2025-08-14 05:52:01    |149052920012809|azuser4012_mml.local@techademy.com|MERGE                 |{predicate -> [\"(order_id#7450L = order_id#7434L)\"], clusterBy -> [], matchedPredicates -> [{\"actionType\":\"update\"}], statsOnLoad -> false, notMatchedBySourcePredicates -> [], notMatchedPredicates -> [{\"actionType\":\"insert\"}]}|NULL|{1364532786276869}|0806-113651-tuywd28y|14         |WriteSerializable|false        |{numTargetRowsCopied -> 0, numTargetRowsDeleted -> 0, numTargetFilesAdded -> 3, numTargetBytesAdded -> 4473, numTargetBytesRemoved -> 0, numTargetDeletionVectorsAdded -> 1, numTargetRowsMatchedUpdated -> 3, executionTimeMs -> 2113, materializeSourceTimeMs -> 69, numTargetRowsInserted -> 0, numTargetRowsMatchedDeleted -> 0, numTargetDeletionVectorsUpdated -> 0, scanTimeMs -> 690, numTargetRowsUpdated -> 3, numOutputRows -> 3, numTargetDeletionVectorsRemoved -> 0, numTargetRowsNotMatchedBySourceUpdated -> 0, numTargetChangeFilesAdded -> 0, numSourceRows -> 3, numTargetFilesRemoved -> 0, numTargetRowsNotMatchedBySourceDeleted -> 0, rewriteTimeMs -> 1314}  |NULL        |Databricks-Runtime/16.4.x-photon-scala2.12|\n",
      "|14     |2025-08-14 05:51:38    |149052920012809|azuser4012_mml.local@techademy.com|OPTIMIZE              |{predicate -> [], auto -> true, clusterBy -> [], zOrderBy -> [], batchId -> 0}                                                                                                                                                    |NULL|{1364532786276869}|0806-113651-tuywd28y|13         |SnapshotIsolation|false        |{numRemovedFiles -> 4, numRemovedBytes -> 6128, p25FileSize -> 1678, numDeletionVectorsRemoved -> 1, minFileSize -> 1678, numAddedFiles -> 1, maxFileSize -> 1678, p75FileSize -> 1678, p50FileSize -> 1678, numAddedBytes -> 1678}                                                                                                                                                                                                                                                                                                                                                                                                                                                  |NULL        |Databricks-Runtime/16.4.x-photon-scala2.12|\n",
      "|13     |2025-08-14 05:51:36    |149052920012809|azuser4012_mml.local@techademy.com|MERGE                 |{predicate -> [\"(order_id#6415L = order_id#6399L)\"], clusterBy -> [], matchedPredicates -> [{\"actionType\":\"update\"}], statsOnLoad -> true, notMatchedBySourcePredicates -> [], notMatchedPredicates -> [{\"actionType\":\"insert\"}]} |NULL|{1364532786276869}|0806-113651-tuywd28y|12         |WriteSerializable|false        |{numTargetRowsCopied -> 0, numTargetRowsDeleted -> 0, numTargetFilesAdded -> 3, numTargetBytesAdded -> 4473, numTargetBytesRemoved -> 0, numTargetDeletionVectorsAdded -> 1, numTargetRowsMatchedUpdated -> 2, executionTimeMs -> 2241, materializeSourceTimeMs -> 63, numTargetRowsInserted -> 1, numTargetRowsMatchedDeleted -> 0, numTargetDeletionVectorsUpdated -> 0, scanTimeMs -> 847, numTargetRowsUpdated -> 2, numOutputRows -> 3, numTargetDeletionVectorsRemoved -> 0, numTargetRowsNotMatchedBySourceUpdated -> 0, numTargetChangeFilesAdded -> 0, numSourceRows -> 3, numTargetFilesRemoved -> 0, numTargetRowsNotMatchedBySourceDeleted -> 0, rewriteTimeMs -> 1290}  |NULL        |Databricks-Runtime/16.4.x-photon-scala2.12|\n",
      "|12     |2025-08-14 05:50:41.001|149052920012809|azuser4012_mml.local@techademy.com|DELETE                |{predicate -> [\"(quantity#6151L < 2)\"]}                                                                                                                                                                                           |NULL|{1364532786276869}|0806-113651-tuywd28y|11         |WriteSerializable|false        |{numRemovedFiles -> 0, numRemovedBytes -> 0, numCopiedRows -> 0, numDeletionVectorsAdded -> 0, numDeletionVectorsRemoved -> 0, numAddedChangeFiles -> 0, executionTimeMs -> 241, numDeletionVectorsUpdated -> 0, numDeletedRows -> 0, scanTimeMs -> 240, numAddedFiles -> 0, numAddedBytes -> 0, rewriteTimeMs -> 0}                                                                                                                                                                                                                                                                                                                                                                 |NULL        |Databricks-Runtime/16.4.x-photon-scala2.12|\n",
      "|11     |2025-08-14 05:50:41    |149052920012809|azuser4012_mml.local@techademy.com|OPTIMIZE              |{predicate -> [], auto -> true, clusterBy -> [], zOrderBy -> [], batchId -> 0}                                                                                                                                                    |NULL|{1364532786276869}|0806-113651-tuywd28y|10         |SnapshotIsolation|false        |{numRemovedFiles -> 2, numRemovedBytes -> 3227, p25FileSize -> 1655, numDeletionVectorsRemoved -> 1, minFileSize -> 1655, numAddedFiles -> 1, maxFileSize -> 1655, p75FileSize -> 1655, p50FileSize -> 1655, numAddedBytes -> 1655}                                                                                                                                                                                                                                                                                                                                                                                                                                                  |NULL        |Databricks-Runtime/16.4.x-photon-scala2.12|\n",
      "|10     |2025-08-14 05:50:39    |149052920012809|azuser4012_mml.local@techademy.com|UPDATE                |{predicate -> [\"(category#5265 = Clothing)\"]}                                                                                                                                                                                     |NULL|{1364532786276869}|0806-113651-tuywd28y|9          |WriteSerializable|false        |{numRemovedFiles -> 0, numRemovedBytes -> 0, numCopiedRows -> 0, numDeletionVectorsAdded -> 1, numDeletionVectorsRemoved -> 0, numAddedChangeFiles -> 0, executionTimeMs -> 1410, numDeletionVectorsUpdated -> 0, scanTimeMs -> 493, numAddedFiles -> 1, numUpdatedRows -> 2, numAddedBytes -> 1573, rewriteTimeMs -> 915}                                                                                                                                                                                                                                                                                                                                                           |NULL        |Databricks-Runtime/16.4.x-photon-scala2.12|\n",
      "|9      |2025-08-14 05:50:14    |149052920012809|azuser4012_mml.local@techademy.com|OPTIMIZE              |{predicate -> [], auto -> true, clusterBy -> [], zOrderBy -> [], batchId -> 0}                                                                                                                                                    |NULL|{1364532786276869}|0806-113651-tuywd28y|8          |SnapshotIsolation|false        |{numRemovedFiles -> 1, numRemovedBytes -> 1676, p25FileSize -> 1654, numDeletionVectorsRemoved -> 1, minFileSize -> 1654, numAddedFiles -> 1, maxFileSize -> 1654, p75FileSize -> 1654, p50FileSize -> 1654, numAddedBytes -> 1654}                                                                                                                                                                                                                                                                                                                                                                                                                                                  |NULL        |Databricks-Runtime/16.4.x-photon-scala2.12|\n",
      "|8      |2025-08-14 05:50:12    |149052920012809|azuser4012_mml.local@techademy.com|DELETE                |{predicate -> [\"(quantity#4747L < 2)\"]}                                                                                                                                                                                           |NULL|{1364532786276869}|0806-113651-tuywd28y|7          |WriteSerializable|false        |{numRemovedFiles -> 0, numRemovedBytes -> 0, numCopiedRows -> 0, numDeletionVectorsAdded -> 1, numDeletionVectorsRemoved -> 0, numAddedChangeFiles -> 0, executionTimeMs -> 1132, numDeletionVectorsUpdated -> 0, numDeletedRows -> 1, scanTimeMs -> 787, numAddedFiles -> 0, numAddedBytes -> 0, rewriteTimeMs -> 345}                                                                                                                                                                                                                                                                                                                                                              |NULL        |Databricks-Runtime/16.4.x-photon-scala2.12|\n",
      "|7      |2025-08-14 05:50:06    |149052920012809|azuser4012_mml.local@techademy.com|OPTIMIZE              |{predicate -> [], auto -> true, clusterBy -> [], zOrderBy -> [], batchId -> 0}                                                                                                                                                    |NULL|{1364532786276869}|0806-113651-tuywd28y|6          |SnapshotIsolation|false        |{numRemovedFiles -> 2, numRemovedBytes -> 3251, p25FileSize -> 1676, numDeletionVectorsRemoved -> 1, minFileSize -> 1676, numAddedFiles -> 1, maxFileSize -> 1676, p75FileSize -> 1676, p50FileSize -> 1676, numAddedBytes -> 1676}                                                                                                                                                                                                                                                                                                                                                                                                                                                  |NULL        |Databricks-Runtime/16.4.x-photon-scala2.12|\n",
      "|6      |2025-08-14 05:50:03    |149052920012809|azuser4012_mml.local@techademy.com|UPDATE                |{predicate -> [\"(category#3962 = Clothing)\"]}                                                                                                                                                                                     |NULL|{1364532786276869}|0806-113651-tuywd28y|5          |WriteSerializable|false        |{numRemovedFiles -> 0, numRemovedBytes -> 0, numCopiedRows -> 0, numDeletionVectorsAdded -> 1, numDeletionVectorsRemoved -> 0, numAddedChangeFiles -> 0, executionTimeMs -> 1533, numDeletionVectorsUpdated -> 0, scanTimeMs -> 632, numAddedFiles -> 1, numUpdatedRows -> 2, numAddedBytes -> 1573, rewriteTimeMs -> 901}                                                                                                                                                                                                                                                                                                                                                           |NULL        |Databricks-Runtime/16.4.x-photon-scala2.12|\n",
      "|5      |2025-08-14 05:49:29    |149052920012809|azuser4012_mml.local@techademy.com|OPTIMIZE              |{predicate -> [], auto -> true, clusterBy -> [], zOrderBy -> [], batchId -> 0}                                                                                                                                                    |NULL|{1364532786276869}|0806-113651-tuywd28y|4          |SnapshotIsolation|false        |{numRemovedFiles -> 4, numRemovedBytes -> 6088, p25FileSize -> 1678, numDeletionVectorsRemoved -> 1, minFileSize -> 1678, numAddedFiles -> 1, maxFileSize -> 1678, p75FileSize -> 1678, p50FileSize -> 1678, numAddedBytes -> 1678}                                                                                                                                                                                                                                                                                                                                                                                                                                                  |NULL        |Databricks-Runtime/16.4.x-photon-scala2.12|\n",
      "|4      |2025-08-14 05:49:26    |149052920012809|azuser4012_mml.local@techademy.com|MERGE                 |{predicate -> [\"(order_id#2802L = order_id#2786L)\"], clusterBy -> [], matchedPredicates -> [{\"actionType\":\"update\"}], statsOnLoad -> true, notMatchedBySourcePredicates -> [], notMatchedPredicates -> [{\"actionType\":\"insert\"}]} |NULL|{1364532786276869}|0806-113651-tuywd28y|3          |WriteSerializable|false        |{numTargetRowsCopied -> 0, numTargetRowsDeleted -> 0, numTargetFilesAdded -> 3, numTargetBytesAdded -> 4473, numTargetBytesRemoved -> 0, numTargetDeletionVectorsAdded -> 1, numTargetRowsMatchedUpdated -> 1, executionTimeMs -> 3051, materializeSourceTimeMs -> 154, numTargetRowsInserted -> 2, numTargetRowsMatchedDeleted -> 0, numTargetDeletionVectorsUpdated -> 1, scanTimeMs -> 1257, numTargetRowsUpdated -> 1, numOutputRows -> 3, numTargetDeletionVectorsRemoved -> 1, numTargetRowsNotMatchedBySourceUpdated -> 0, numTargetChangeFilesAdded -> 0, numSourceRows -> 3, numTargetFilesRemoved -> 0, numTargetRowsNotMatchedBySourceDeleted -> 0, rewriteTimeMs -> 1575}|NULL        |Databricks-Runtime/16.4.x-photon-scala2.12|\n",
      "|3      |2025-08-14 05:49:23    |149052920012809|azuser4012_mml.local@techademy.com|OPTIMIZE              |{predicate -> [], auto -> true, clusterBy -> [], zOrderBy -> [], batchId -> 0}                                                                                                                                                    |NULL|{1364532786276869}|0806-113651-tuywd28y|1          |SnapshotIsolation|false        |{numRemovedFiles -> 2, numRemovedBytes -> 3167, p25FileSize -> 1615, numDeletionVectorsRemoved -> 1, conflictDetectionTimeMs -> 283, minFileSize -> 1615, numAddedFiles -> 1, maxFileSize -> 1615, p75FileSize -> 1615, p50FileSize -> 1615, numAddedBytes -> 1615}                                                                                                                                                                                                                                                                                                                                                                                                                  |NULL        |Databricks-Runtime/16.4.x-photon-scala2.12|\n",
      "|2      |2025-08-14 05:49:21    |149052920012809|azuser4012_mml.local@techademy.com|DELETE                |{predicate -> [\"(quantity#2296L < 2)\"]}                                                                                                                                                                                           |NULL|{1364532786276869}|0806-113651-tuywd28y|1          |WriteSerializable|false        |{numRemovedFiles -> 0, numRemovedBytes -> 0, numCopiedRows -> 0, numDeletionVectorsAdded -> 1, numDeletionVectorsRemoved -> 0, numAddedChangeFiles -> 0, executionTimeMs -> 1399, numDeletionVectorsUpdated -> 0, numDeletedRows -> 1, scanTimeMs -> 930, numAddedFiles -> 0, numAddedBytes -> 0, rewriteTimeMs -> 468}                                                                                                                                                                                                                                                                                                                                                              |NULL        |Databricks-Runtime/16.4.x-photon-scala2.12|\n",
      "|1      |2025-08-14 05:49:19    |149052920012809|azuser4012_mml.local@techademy.com|UPDATE                |{predicate -> [\"(category#1707 = Clothing)\"]}                                                                                                                                                                                     |NULL|{1364532786276869}|0806-113651-tuywd28y|0          |WriteSerializable|false        |{numRemovedFiles -> 0, numRemovedBytes -> 0, numCopiedRows -> 0, numDeletionVectorsAdded -> 1, numDeletionVectorsRemoved -> 0, numAddedChangeFiles -> 0, executionTimeMs -> 4410, numDeletionVectorsUpdated -> 0, scanTimeMs -> 2361, numAddedFiles -> 1, numUpdatedRows -> 2, numAddedBytes -> 1548, rewriteTimeMs -> 2015}                                                                                                                                                                                                                                                                                                                                                         |NULL        |Databricks-Runtime/16.4.x-photon-scala2.12|\n",
      "|0      |2025-08-14 05:36:46    |149052920012809|azuser4012_mml.local@techademy.com|CREATE TABLE AS SELECT|{partitionBy -> [], clusterBy -> [], description -> NULL, isManaged -> true, properties -> {\"delta.enableDeletionVectors\":\"true\"}, statsOnLoad -> true}                                                                           |NULL|{1364532786276869}|0806-113651-tuywd28y|NULL       |WriteSerializable|true         |{numFiles -> 1, numOutputRows -> 4, numOutputBytes -> 1619}                                                                                                                                                                                                                                                                                                                                                                                                                                                                                                                                                                                                                          |NULL        |Databricks-Runtime/16.4.x-photon-scala2.12|\n",
      "+-------+-----------------------+---------------+----------------------------------+----------------------+----------------------------------------------------------------------------------------------------------------------------------------------------------------------------------------------------------------------------------+----+------------------+--------------------+-----------+-----------------+-------------+-------------------------------------------------------------------------------------------------------------------------------------------------------------------------------------------------------------------------------------------------------------------------------------------------------------------------------------------------------------------------------------------------------------------------------------------------------------------------------------------------------------------------------------------------------------------------------------------------------------------------------------------------------------------------------------+------------+------------------------------------------+\n",
      "\n",
      "Version 0:\n"
     ]
    },
    {
     "data": {
      "text/html": [
       "<style scoped>\n",
       "  .table-result-container {\n",
       "    max-height: 300px;\n",
       "    overflow: auto;\n",
       "  }\n",
       "  table, th, td {\n",
       "    border: 1px solid black;\n",
       "    border-collapse: collapse;\n",
       "  }\n",
       "  th, td {\n",
       "    padding: 5px;\n",
       "  }\n",
       "  th {\n",
       "    text-align: left;\n",
       "  }\n",
       "</style><div class='table-result-container'><table class='table-result'><thead style='background-color: white'><tr><th>order_id</th><th>customer_name</th><th>category</th><th>quantity</th><th>amount</th></tr></thead><tbody><tr><td>1</td><td>John</td><td>Electronics</td><td>2</td><td>300</td></tr><tr><td>2</td><td>Sara</td><td>Clothing</td><td>1</td><td>50</td></tr><tr><td>3</td><td>Mike</td><td>Electronics</td><td>4</td><td>600</td></tr><tr><td>4</td><td>Nina</td><td>Clothing</td><td>3</td><td>150</td></tr></tbody></table></div>"
      ]
     },
     "metadata": {
      "application/vnd.databricks.v1+output": {
       "addedWidgets": {},
       "aggData": [],
       "aggError": "",
       "aggOverflow": false,
       "aggSchema": [],
       "aggSeriesLimitReached": false,
       "aggType": "",
       "arguments": {},
       "columnCustomDisplayInfos": {},
       "data": [
        [
         1,
         "John",
         "Electronics",
         2,
         300
        ],
        [
         2,
         "Sara",
         "Clothing",
         1,
         50
        ],
        [
         3,
         "Mike",
         "Electronics",
         4,
         600
        ],
        [
         4,
         "Nina",
         "Clothing",
         3,
         150
        ]
       ],
       "datasetInfos": [],
       "dbfsResultPath": null,
       "isJsonSchema": true,
       "metadata": {},
       "overflow": false,
       "plotOptions": {
        "customPlotOptions": {},
        "displayType": "table",
        "pivotAggregation": null,
        "pivotColumns": null,
        "xColumns": null,
        "yColumns": null
       },
       "removedWidgets": [],
       "schema": [
        {
         "metadata": "{}",
         "name": "order_id",
         "type": "\"long\""
        },
        {
         "metadata": "{}",
         "name": "customer_name",
         "type": "\"string\""
        },
        {
         "metadata": "{}",
         "name": "category",
         "type": "\"string\""
        },
        {
         "metadata": "{}",
         "name": "quantity",
         "type": "\"long\""
        },
        {
         "metadata": "{}",
         "name": "amount",
         "type": "\"long\""
        }
       ],
       "type": "table"
      }
     },
     "output_type": "display_data"
    },
    {
     "name": "stdout",
     "output_type": "stream",
     "text": [
      "Latest version:\n"
     ]
    },
    {
     "data": {
      "text/html": [
       "<style scoped>\n",
       "  .table-result-container {\n",
       "    max-height: 300px;\n",
       "    overflow: auto;\n",
       "  }\n",
       "  table, th, td {\n",
       "    border: 1px solid black;\n",
       "    border-collapse: collapse;\n",
       "  }\n",
       "  th, td {\n",
       "    padding: 5px;\n",
       "  }\n",
       "  th {\n",
       "    text-align: left;\n",
       "  }\n",
       "</style><div class='table-result-container'><table class='table-result'><thead style='background-color: white'><tr><th>order_id</th><th>customer_name</th><th>category</th><th>quantity</th><th>amount</th></tr></thead><tbody><tr><td>4</td><td>Nina</td><td>Clothing</td><td>3</td><td>210</td></tr><tr><td>3</td><td>Mike</td><td>Electronics</td><td>4</td><td>600</td></tr><tr><td>1</td><td>Alice</td><td>Clothing</td><td>3</td><td>250</td></tr><tr><td>5</td><td>Tom</td><td>Electronics</td><td>1</td><td>300</td></tr><tr><td>6</td><td>Jerry</td><td>Furniture</td><td>2</td><td>500</td></tr></tbody></table></div>"
      ]
     },
     "metadata": {
      "application/vnd.databricks.v1+output": {
       "addedWidgets": {},
       "aggData": [],
       "aggError": "",
       "aggOverflow": false,
       "aggSchema": [],
       "aggSeriesLimitReached": false,
       "aggType": "",
       "arguments": {},
       "columnCustomDisplayInfos": {},
       "data": [
        [
         4,
         "Nina",
         "Clothing",
         3,
         210
        ],
        [
         3,
         "Mike",
         "Electronics",
         4,
         600
        ],
        [
         1,
         "Alice",
         "Clothing",
         3,
         250
        ],
        [
         5,
         "Tom",
         "Electronics",
         1,
         300
        ],
        [
         6,
         "Jerry",
         "Furniture",
         2,
         500
        ]
       ],
       "datasetInfos": [],
       "dbfsResultPath": null,
       "isJsonSchema": true,
       "metadata": {},
       "overflow": false,
       "plotOptions": {
        "customPlotOptions": {},
        "displayType": "table",
        "pivotAggregation": null,
        "pivotColumns": null,
        "xColumns": null,
        "yColumns": null
       },
       "removedWidgets": [],
       "schema": [
        {
         "metadata": "{}",
         "name": "order_id",
         "type": "\"long\""
        },
        {
         "metadata": "{}",
         "name": "customer_name",
         "type": "\"string\""
        },
        {
         "metadata": "{}",
         "name": "category",
         "type": "\"string\""
        },
        {
         "metadata": "{}",
         "name": "quantity",
         "type": "\"long\""
        },
        {
         "metadata": "{}",
         "name": "amount",
         "type": "\"long\""
        }
       ],
       "type": "table"
      }
     },
     "output_type": "display_data"
    }
   ],
   "source": [
    "# View history\n",
    "spark.sql(\"DESCRIBE HISTORY orders_managed\").show(truncate=False)\n",
    "\n",
    "# Read version 0\n",
    "df_v0 = spark.read.format(\"delta\").option(\"versionAsOf\", 0).table(\"orders_managed\")\n",
    "\n",
    "# Latest version\n",
    "df_latest = spark.table(\"orders_managed\")\n",
    "\n",
    "print(\"Version 0:\")\n",
    "display(df_v0)\n",
    "\n",
    "print(\"Latest version:\")\n",
    "display(df_latest)\n"
   ]
  },
  {
   "cell_type": "markdown",
   "metadata": {
    "application/vnd.databricks.v1+cell": {
     "cellMetadata": {},
     "inputWidgets": {},
     "nuid": "2a6086e6-0be1-4882-8537-f304ff96a2f3",
     "showTitle": false,
     "tableResultSettingsMap": {},
     "title": ""
    }
   },
   "source": [
    "4. Incremental Load Pattern"
   ]
  },
  {
   "cell_type": "code",
   "execution_count": 0,
   "metadata": {
    "application/vnd.databricks.v1+cell": {
     "cellMetadata": {
      "byteLimit": 2048000,
      "rowLimit": 10000
     },
     "inputWidgets": {},
     "nuid": "aa3223d9-f19e-469e-8bf2-8e067af0a68a",
     "showTitle": false,
     "tableResultSettingsMap": {},
     "title": ""
    }
   },
   "outputs": [],
   "source": [
    "# New mini-batch orders\n",
    "batch_new = [\n",
    "    (5, \"Tom\", \"Electronics\", 1, 300),   # already present in merge above (example only)\n",
    "    (6, \"Jerry\", \"Furniture\", 2, 500)    # already present (example only)\n",
    "]\n",
    "columns = [\"order_id\", \"customer_name\", \"category\", \"quantity\", \"amount\"]\n",
    "batch_df = spark.createDataFrame(batch_new, columns)"
   ]
  },
  {
   "cell_type": "code",
   "execution_count": 0,
   "metadata": {
    "application/vnd.databricks.v1+cell": {
     "cellMetadata": {
      "byteLimit": 2048000,
      "rowLimit": 10000
     },
     "inputWidgets": {},
     "nuid": "e99a4b21-d79f-4290-9c12-9f4cbddfbe79",
     "showTitle": false,
     "tableResultSettingsMap": {},
     "title": ""
    }
   },
   "outputs": [
    {
     "data": {
      "text/html": [
       "<style scoped>\n",
       "  .table-result-container {\n",
       "    max-height: 300px;\n",
       "    overflow: auto;\n",
       "  }\n",
       "  table, th, td {\n",
       "    border: 1px solid black;\n",
       "    border-collapse: collapse;\n",
       "  }\n",
       "  th, td {\n",
       "    padding: 5px;\n",
       "  }\n",
       "  th {\n",
       "    text-align: left;\n",
       "  }\n",
       "</style><div class='table-result-container'><table class='table-result'><thead style='background-color: white'><tr><th>order_id</th><th>customer_name</th><th>category</th><th>quantity</th><th>amount</th></tr></thead><tbody><tr><td>4</td><td>Nina</td><td>Clothing</td><td>3</td><td>210</td></tr><tr><td>3</td><td>Mike</td><td>Electronics</td><td>4</td><td>600</td></tr><tr><td>1</td><td>Alice</td><td>Clothing</td><td>3</td><td>250</td></tr><tr><td>5</td><td>Tom</td><td>Electronics</td><td>1</td><td>300</td></tr><tr><td>6</td><td>Jerry</td><td>Furniture</td><td>2</td><td>500</td></tr><tr><td>5</td><td>Tom</td><td>Electronics</td><td>1</td><td>300</td></tr><tr><td>6</td><td>Jerry</td><td>Furniture</td><td>2</td><td>500</td></tr><tr><td>5</td><td>Tom</td><td>Electronics</td><td>1</td><td>300</td></tr><tr><td>6</td><td>Jerry</td><td>Furniture</td><td>2</td><td>500</td></tr></tbody></table></div>"
      ]
     },
     "metadata": {
      "application/vnd.databricks.v1+output": {
       "addedWidgets": {},
       "aggData": [],
       "aggError": "",
       "aggOverflow": false,
       "aggSchema": [],
       "aggSeriesLimitReached": false,
       "aggType": "",
       "arguments": {},
       "columnCustomDisplayInfos": {},
       "data": [
        [
         4,
         "Nina",
         "Clothing",
         3,
         210
        ],
        [
         3,
         "Mike",
         "Electronics",
         4,
         600
        ],
        [
         1,
         "Alice",
         "Clothing",
         3,
         250
        ],
        [
         5,
         "Tom",
         "Electronics",
         1,
         300
        ],
        [
         6,
         "Jerry",
         "Furniture",
         2,
         500
        ],
        [
         5,
         "Tom",
         "Electronics",
         1,
         300
        ],
        [
         6,
         "Jerry",
         "Furniture",
         2,
         500
        ],
        [
         5,
         "Tom",
         "Electronics",
         1,
         300
        ],
        [
         6,
         "Jerry",
         "Furniture",
         2,
         500
        ]
       ],
       "datasetInfos": [],
       "dbfsResultPath": null,
       "isJsonSchema": true,
       "metadata": {},
       "overflow": false,
       "plotOptions": {
        "customPlotOptions": {},
        "displayType": "table",
        "pivotAggregation": null,
        "pivotColumns": null,
        "xColumns": null,
        "yColumns": null
       },
       "removedWidgets": [],
       "schema": [
        {
         "metadata": "{}",
         "name": "order_id",
         "type": "\"long\""
        },
        {
         "metadata": "{}",
         "name": "customer_name",
         "type": "\"string\""
        },
        {
         "metadata": "{}",
         "name": "category",
         "type": "\"string\""
        },
        {
         "metadata": "{}",
         "name": "quantity",
         "type": "\"long\""
        },
        {
         "metadata": "{}",
         "name": "amount",
         "type": "\"long\""
        }
       ],
       "type": "table"
      }
     },
     "output_type": "display_data"
    }
   ],
   "source": [
    "# Append\n",
    "batch_df.write.format(\"delta\").mode(\"append\").saveAsTable(\"orders_managed\")\n",
    "# Final result\n",
    "display(spark.table(\"orders_managed\"))"
   ]
  },
  {
   "cell_type": "markdown",
   "metadata": {
    "application/vnd.databricks.v1+cell": {
     "cellMetadata": {},
     "inputWidgets": {},
     "nuid": "7e71c30f-f189-4e09-ab80-abbcbbc30062",
     "showTitle": false,
     "tableResultSettingsMap": {},
     "title": ""
    }
   },
   "source": [
    "5. Simple Streaming Read"
   ]
  },
  {
   "cell_type": "code",
   "execution_count": 0,
   "metadata": {
    "application/vnd.databricks.v1+cell": {
     "cellMetadata": {
      "byteLimit": 2048000,
      "rowLimit": 10000
     },
     "inputWidgets": {},
     "nuid": "769a4227-32aa-448a-b531-73ac7950e6aa",
     "showTitle": false,
     "tableResultSettingsMap": {},
     "title": ""
    }
   },
   "outputs": [],
   "source": [
    "stream_df = (\n",
    "    spark.readStream\n",
    "         .format(\"delta\")\n",
    "         .load(\"/tmp/orders_delta\")\n",
    ")\n",
    "\n",
    "query = (\n",
    "    stream_df.writeStream\n",
    "             .format(\"console\")\n",
    "             .outputMode(\"append\")\n",
    "             .trigger(processingTime=\"5 seconds\")\n",
    "             .start()\n",
    ")\n",
    "\n"
   ]
  },
  {
   "cell_type": "code",
   "execution_count": 0,
   "metadata": {
    "application/vnd.databricks.v1+cell": {
     "cellMetadata": {
      "byteLimit": 2048000,
      "rowLimit": 10000
     },
     "inputWidgets": {},
     "nuid": "bd8a4891-4c85-414e-b395-b7c25e719bf1",
     "showTitle": false,
     "tableResultSettingsMap": {},
     "title": ""
    }
   },
   "outputs": [],
   "source": [
    "query.stop()\n"
   ]
  },
  {
   "cell_type": "markdown",
   "metadata": {
    "application/vnd.databricks.v1+cell": {
     "cellMetadata": {},
     "inputWidgets": {},
     "nuid": "a42529fe-1317-49f8-b9d7-6bbdb5246530",
     "showTitle": false,
     "tableResultSettingsMap": {},
     "title": ""
    }
   },
   "source": [
    "6. Visualization"
   ]
  },
  {
   "cell_type": "code",
   "execution_count": 0,
   "metadata": {
    "application/vnd.databricks.v1+cell": {
     "cellMetadata": {
      "byteLimit": 2048000,
      "rowLimit": 10000
     },
     "inputWidgets": {},
     "nuid": "7a4b4c94-b8b1-4f82-b14d-ec125078eaba",
     "showTitle": false,
     "tableResultSettingsMap": {},
     "title": ""
    }
   },
   "outputs": [
    {
     "name": "stdout",
     "output_type": "stream",
     "text": [
      "Clothing     | ██████               460\n",
      "Electronics  | ████████████████████ 1500\n",
      "Furniture    | ████████████████████ 1500\n"
     ]
    }
   ],
   "source": [
    "\n",
    "pdf = spark.table(\"orders_managed\").toPandas()\n",
    "category_sum = pdf.groupby(\"category\")[\"amount\"].sum().reset_index()\n",
    "for cat in [\"Electronics\", \"Clothing\", \"Furniture\"]:\n",
    "    if cat not in category_sum[\"category\"].values:\n",
    "        category_sum = pd.concat([\n",
    "            category_sum,\n",
    "            pd.DataFrame({\"category\": [cat], \"amount\": [0]})\n",
    "        ], ignore_index=True)\n",
    "category_sum = category_sum.sort_values(\"category\")\n",
    "max_amount = category_sum[\"amount\"].max()\n",
    "for _, row in category_sum.iterrows():\n",
    "    category = row[\"category\"]\n",
    "    amount = row[\"amount\"]\n",
    "    bar_length = int((amount / max_amount) * 20) if max_amount > 0 else 0\n",
    "    bar = \"█\" * bar_length\n",
    "    print(f\"{category:<12} | {bar:<20} {amount}\")\n"
   ]
  }
 ],
 "metadata": {
  "application/vnd.databricks.v1+notebook": {
   "computePreferences": null,
   "dashboards": [],
   "environmentMetadata": {
    "base_environment": "",
    "environment_version": "2"
   },
   "inputWidgetPreferences": null,
   "language": "python",
   "notebookMetadata": {
    "mostRecentlyExecutedCommandWithImplicitDF": {
     "commandId": -1,
     "dataframes": [
      "_sqldf"
     ]
    },
    "pythonIndentUnit": 4
   },
   "notebookName": "Azure Databricks 1",
   "widgets": {}
  },
  "language_info": {
   "name": "python"
  }
 },
 "nbformat": 4,
 "nbformat_minor": 0
}
