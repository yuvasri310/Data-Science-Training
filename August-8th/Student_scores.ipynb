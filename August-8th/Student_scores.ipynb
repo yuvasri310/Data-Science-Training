{
 "cells": [
  {
   "cell_type": "markdown",
   "metadata": {
    "application/vnd.databricks.v1+cell": {
     "cellMetadata": {},
     "inputWidgets": {},
     "nuid": "3f60118d-abd0-40b9-a2f3-d549e615b279",
     "showTitle": false,
     "tableResultSettingsMap": {},
     "title": ""
    }
   },
   "source": [
    "**Dataset: Inline CSV – student_scores.csv**"
   ]
  },
  {
   "cell_type": "code",
   "execution_count": 0,
   "metadata": {
    "application/vnd.databricks.v1+cell": {
     "cellMetadata": {
      "byteLimit": 2048000,
      "rowLimit": 10000
     },
     "inputWidgets": {},
     "nuid": "2c8b26df-e701-4267-b481-e27d7fad5905",
     "showTitle": false,
     "tableResultSettingsMap": {},
     "title": ""
    }
   },
   "outputs": [
    {
     "name": "stdout",
     "output_type": "stream",
     "text": [
      "Wrote 234 bytes.\n"
     ]
    },
    {
     "data": {
      "text/plain": [
       "True"
      ]
     },
     "execution_count": 20,
     "metadata": {},
     "output_type": "execute_result"
    }
   ],
   "source": [
    "csv_data = \"\"\"student_id,name,subject,score,grade\n",
    "1,Ankit,Math,85,A\n",
    "2,Divya,Science,92,A\n",
    "3,Rahul,English,78,B\n",
    "4,Sneha,Math,65,C\n",
    "5,Aryan,Science,55,D\n",
    "6,Isha,English,88,A\n",
    "7,Tanvi,Math,91,A\n",
    "8,Kunal,Science,72,B\n",
    "9,Megha,English,60,C\n",
    "10,Rohan,Math,40,F\n",
    "\"\"\"\n",
    "\n",
    "dbutils.fs.put(\"dbfs:/tmp/student_scores.csv\", csv_data, overwrite=True)"
   ]
  },
  {
   "cell_type": "code",
   "execution_count": 0,
   "metadata": {
    "application/vnd.databricks.v1+cell": {
     "cellMetadata": {
      "byteLimit": 2048000,
      "rowLimit": 10000
     },
     "inputWidgets": {},
     "nuid": "becddb67-178d-441b-8593-568878ba8cf0",
     "showTitle": false,
     "tableResultSettingsMap": {},
     "title": ""
    }
   },
   "outputs": [
    {
     "name": "stdout",
     "output_type": "stream",
     "text": [
      "+----------+-----+-------+-----+-----+\n",
      "|student_id| name|subject|score|grade|\n",
      "+----------+-----+-------+-----+-----+\n",
      "|         1|Ankit|   Math|   85|    A|\n",
      "|         2|Divya|Science|   92|    A|\n",
      "|         3|Rahul|English|   78|    B|\n",
      "|         4|Sneha|   Math|   65|    C|\n",
      "|         5|Aryan|Science|   55|    D|\n",
      "|         6| Isha|English|   88|    A|\n",
      "|         7|Tanvi|   Math|   91|    A|\n",
      "|         8|Kunal|Science|   72|    B|\n",
      "|         9|Megha|English|   60|    C|\n",
      "|        10|Rohan|   Math|   40|    F|\n",
      "+----------+-----+-------+-----+-----+\n",
      "\n"
     ]
    }
   ],
   "source": [
    "df = spark.read.option(\"header\", True).option(\"inferSchema\", True).csv(\"dbfs:/tmp/student_scores.csv\")\n",
    "df.show()"
   ]
  },
  {
   "cell_type": "code",
   "execution_count": 0,
   "metadata": {
    "application/vnd.databricks.v1+cell": {
     "cellMetadata": {
      "byteLimit": 2048000,
      "rowLimit": 10000
     },
     "inputWidgets": {},
     "nuid": "04228f21-3d33-471e-b847-aecd086c269e",
     "showTitle": false,
     "tableResultSettingsMap": {},
     "title": ""
    }
   },
   "outputs": [],
   "source": [
    "df.write.mode(\"overwrite\").format(\"delta\").save(\"/tmp/delta/student_scores\")"
   ]
  },
  {
   "cell_type": "code",
   "execution_count": 0,
   "metadata": {
    "application/vnd.databricks.v1+cell": {
     "cellMetadata": {
      "byteLimit": 2048000,
      "rowLimit": 10000
     },
     "inputWidgets": {},
     "nuid": "53443dc1-363b-4dfc-842a-ffd9740b9cb8",
     "showTitle": false,
     "tableResultSettingsMap": {},
     "title": ""
    }
   },
   "outputs": [
    {
     "data": {
      "text/plain": [
       "DataFrame[]"
      ]
     },
     "execution_count": 6,
     "metadata": {},
     "output_type": "execute_result"
    }
   ],
   "source": [
    "spark.sql(\"DROP TABLE IF EXISTS student_scores\")"
   ]
  },
  {
   "cell_type": "code",
   "execution_count": 0,
   "metadata": {
    "application/vnd.databricks.v1+cell": {
     "cellMetadata": {},
     "inputWidgets": {},
     "nuid": "03dfe672-055a-45cb-95b8-af5b112ad83d",
     "showTitle": false,
     "tableResultSettingsMap": {},
     "title": ""
    }
   },
   "outputs": [],
   "source": [
    "spark.sql(\"CREATE TABLE default.student_scores USING DELTA LOCATION 'dbfs:/tmp/delta/student_scores'\")"
   ]
  },
  {
   "cell_type": "code",
   "execution_count": 0,
   "metadata": {
    "application/vnd.databricks.v1+cell": {
     "cellMetadata": {
      "byteLimit": 2048000,
      "rowLimit": 10000
     },
     "inputWidgets": {},
     "nuid": "638c2972-3901-444f-9995-576e996a7c59",
     "showTitle": false,
     "tableResultSettingsMap": {},
     "title": ""
    }
   },
   "outputs": [
    {
     "name": "stdout",
     "output_type": "stream",
     "text": [
      "+----------+-----+-------+-----+-----+\n",
      "|student_id| name|subject|score|grade|\n",
      "+----------+-----+-------+-----+-----+\n",
      "|         1|Ankit|   Math|   85|    A|\n",
      "|         2|Divya|Science|   92|    A|\n",
      "|         3|Rahul|English|   78|    B|\n",
      "|         4|Sneha|   Math|   65|    C|\n",
      "|         5|Aryan|Science|   55|    D|\n",
      "|         6| Isha|English|   88|    A|\n",
      "|         7|Tanvi|   Math|   91|    A|\n",
      "|         8|Kunal|Science|   72|    B|\n",
      "|         9|Megha|English|   60|    C|\n",
      "|        10|Rohan|   Math|   40|    F|\n",
      "+----------+-----+-------+-----+-----+\n",
      "\n"
     ]
    }
   ],
   "source": [
    "from delta.tables import DeltaTable\n",
    "\n",
    "delta_table = DeltaTable.forPath(spark, \"/tmp/delta/student_scores\")\n",
    "df = delta_table.toDF()\n",
    "df.show()"
   ]
  },
  {
   "cell_type": "code",
   "execution_count": 0,
   "metadata": {
    "application/vnd.databricks.v1+cell": {
     "cellMetadata": {
      "byteLimit": 2048000,
      "rowLimit": 10000
     },
     "inputWidgets": {},
     "nuid": "482cbeeb-650d-4447-8c70-5b0a83abc77e",
     "showTitle": false,
     "tableResultSettingsMap": {},
     "title": ""
    }
   },
   "outputs": [],
   "source": [
    "df = spark.read.format(\"delta\").load(\"/tmp/delta/student_scores\")\n",
    "df.createOrReplaceTempView(\"student_scores\")"
   ]
  },
  {
   "cell_type": "code",
   "execution_count": 0,
   "metadata": {
    "application/vnd.databricks.v1+cell": {
     "cellMetadata": {
      "byteLimit": 2048000,
      "rowLimit": 10000
     },
     "inputWidgets": {},
     "nuid": "0c8b2f97-8f5f-4997-bff7-356b2881204e",
     "showTitle": false,
     "tableResultSettingsMap": {},
     "title": ""
    }
   },
   "outputs": [
    {
     "name": "stdout",
     "output_type": "stream",
     "text": [
      "+-----+-----+\n",
      "| name|score|\n",
      "+-----+-----+\n",
      "|Ankit|   85|\n",
      "|Divya|   92|\n",
      "|Rahul|   78|\n",
      "|Sneha|   65|\n",
      "|Aryan|   55|\n",
      "| Isha|   88|\n",
      "|Tanvi|   91|\n",
      "|Kunal|   72|\n",
      "|Megha|   60|\n",
      "|Rohan|   40|\n",
      "+-----+-----+\n",
      "\n"
     ]
    }
   ],
   "source": [
    "spark.sql(\"SELECT name, score FROM student_scores\").show()"
   ]
  },
  {
   "cell_type": "code",
   "execution_count": 0,
   "metadata": {
    "application/vnd.databricks.v1+cell": {
     "cellMetadata": {
      "byteLimit": 2048000,
      "rowLimit": 10000
     },
     "inputWidgets": {},
     "nuid": "2c09bad1-2ca1-4e27-8fff-89000f552758",
     "showTitle": false,
     "tableResultSettingsMap": {},
     "title": ""
    }
   },
   "outputs": [
    {
     "name": "stdout",
     "output_type": "stream",
     "text": [
      "+-------+-------------+\n",
      "|subject|student_count|\n",
      "+-------+-------------+\n",
      "|Science|            3|\n",
      "|   Math|            4|\n",
      "|English|            3|\n",
      "+-------+-------------+\n",
      "\n"
     ]
    }
   ],
   "source": [
    "spark.sql(\"\"\"SELECT subject, COUNT(*) AS student_count FROM student_scores GROUP BY subject\"\"\").show()"
   ]
  },
  {
   "cell_type": "code",
   "execution_count": 0,
   "metadata": {
    "application/vnd.databricks.v1+cell": {
     "cellMetadata": {
      "byteLimit": 2048000,
      "rowLimit": 10000
     },
     "inputWidgets": {},
     "nuid": "0b18fb0f-a36d-4e19-a651-0b9c7e445ef1",
     "showTitle": false,
     "tableResultSettingsMap": {},
     "title": ""
    }
   },
   "outputs": [
    {
     "name": "stdout",
     "output_type": "stream",
     "text": [
      "+-------+---------+\n",
      "|subject|avg_score|\n",
      "+-------+---------+\n",
      "|Science|     73.0|\n",
      "|   Math|    70.25|\n",
      "|English|    75.33|\n",
      "+-------+---------+\n",
      "\n"
     ]
    }
   ],
   "source": [
    "spark.sql(\"\"\"SELECT subject, ROUND(AVG(score), 2) AS avg_score FROM student_scores GROUP BY subject\"\"\").show()"
   ]
  },
  {
   "cell_type": "code",
   "execution_count": 0,
   "metadata": {
    "application/vnd.databricks.v1+cell": {
     "cellMetadata": {
      "byteLimit": 2048000,
      "rowLimit": 10000
     },
     "inputWidgets": {},
     "nuid": "1147a068-dcea-48fd-bcde-4becee7d6ab0",
     "showTitle": false,
     "tableResultSettingsMap": {},
     "title": ""
    }
   },
   "outputs": [
    {
     "name": "stdout",
     "output_type": "stream",
     "text": [
      "+----------+-----+-------+-----+-----+\n",
      "|student_id| name|subject|score|grade|\n",
      "+----------+-----+-------+-----+-----+\n",
      "|         1|Ankit|   Math|   85|    A|\n",
      "|         2|Divya|Science|   92|    A|\n",
      "|         6| Isha|English|   88|    A|\n",
      "|         7|Tanvi|   Math|   91|    A|\n",
      "+----------+-----+-------+-----+-----+\n",
      "\n"
     ]
    }
   ],
   "source": [
    "spark.sql(\"SELECT * FROM student_scores WHERE score > 80\").show()"
   ]
  },
  {
   "cell_type": "code",
   "execution_count": 0,
   "metadata": {
    "application/vnd.databricks.v1+cell": {
     "cellMetadata": {
      "byteLimit": 2048000,
      "rowLimit": 10000
     },
     "inputWidgets": {},
     "nuid": "b5d0c24a-16f0-4224-8bc3-687bf9c52be1",
     "showTitle": false,
     "tableResultSettingsMap": {},
     "title": ""
    }
   },
   "outputs": [
    {
     "name": "stdout",
     "output_type": "stream",
     "text": [
      "+-------+-----+-----+\n",
      "|subject| name|score|\n",
      "+-------+-----+-----+\n",
      "|English| Isha|   88|\n",
      "|   Math|Tanvi|   91|\n",
      "|Science|Divya|   92|\n",
      "+-------+-----+-----+\n",
      "\n"
     ]
    }
   ],
   "source": [
    "spark.sql(\"\"\"SELECT subject, name, score FROM (SELECT *, RANK() OVER (PARTITION BY subject ORDER BY score DESC) AS rnk FROM student_scores) WHERE rnk = 1\"\"\").show()"
   ]
  },
  {
   "cell_type": "code",
   "execution_count": 0,
   "metadata": {
    "application/vnd.databricks.v1+cell": {
     "cellMetadata": {
      "byteLimit": 2048000,
      "rowLimit": 10000
     },
     "inputWidgets": {},
     "nuid": "789a122b-0b17-4fd6-bbf4-36156d4cbd98",
     "showTitle": false,
     "tableResultSettingsMap": {},
     "title": ""
    }
   },
   "outputs": [
    {
     "name": "stdout",
     "output_type": "stream",
     "text": [
      "+-----+-------------+\n",
      "|grade|student_count|\n",
      "+-----+-------------+\n",
      "|    F|            1|\n",
      "|    B|            2|\n",
      "|    D|            1|\n",
      "|    C|            2|\n",
      "|    A|            4|\n",
      "+-----+-------------+\n",
      "\n"
     ]
    }
   ],
   "source": [
    "spark.sql(\"\"\"SELECT grade, COUNT(*) AS student_count FROM student_scores GROUP BY grade\"\"\").show()"
   ]
  },
  {
   "cell_type": "code",
   "execution_count": 0,
   "metadata": {
    "application/vnd.databricks.v1+cell": {
     "cellMetadata": {
      "byteLimit": 2048000,
      "rowLimit": 10000
     },
     "inputWidgets": {},
     "nuid": "f03a1d31-fbaf-4291-a674-a526108c79d3",
     "showTitle": false,
     "tableResultSettingsMap": {},
     "title": ""
    }
   },
   "outputs": [
    {
     "name": "stdout",
     "output_type": "stream",
     "text": [
      "+----------+-----+-------+-----+-----+\n",
      "|student_id| name|subject|score|grade|\n",
      "+----------+-----+-------+-----+-----+\n",
      "|        10|Rohan|   Math|   40|    F|\n",
      "+----------+-----+-------+-----+-----+\n",
      "\n"
     ]
    }
   ],
   "source": [
    "spark.sql(\"\"\"SELECT * FROM student_scores WHERE grade = 'F'\"\"\").show()"
   ]
  },
  {
   "cell_type": "code",
   "execution_count": 0,
   "metadata": {
    "application/vnd.databricks.v1+cell": {
     "cellMetadata": {
      "byteLimit": 2048000,
      "rowLimit": 10000
     },
     "inputWidgets": {},
     "nuid": "2a4d474c-29bc-44d6-a237-c9191658c4ff",
     "showTitle": false,
     "tableResultSettingsMap": {},
     "title": ""
    }
   },
   "outputs": [
    {
     "name": "stdout",
     "output_type": "stream",
     "text": [
      "+----------+-----+-------+-----+-----+\n",
      "|student_id| name|subject|score|grade|\n",
      "+----------+-----+-------+-----+-----+\n",
      "|         1|Ankit|   Math|   85|    A|\n",
      "|         3|Rahul|English|   78|    B|\n",
      "|         4|Sneha|   Math|   65|    C|\n",
      "|         6| Isha|English|   88|    A|\n",
      "|         8|Kunal|Science|   72|    B|\n",
      "|         9|Megha|English|   60|    C|\n",
      "+----------+-----+-------+-----+-----+\n",
      "\n"
     ]
    }
   ],
   "source": [
    "spark.sql(\"\"\"SELECT * FROM student_scores where score BETWEEN 60 AND 90\"\"\").show()"
   ]
  },
  {
   "cell_type": "code",
   "execution_count": 0,
   "metadata": {
    "application/vnd.databricks.v1+cell": {
     "cellMetadata": {
      "byteLimit": 2048000,
      "rowLimit": 10000
     },
     "inputWidgets": {},
     "nuid": "1b3af10e-47c1-4c4b-8b1f-17f64fdafe8d",
     "showTitle": false,
     "tableResultSettingsMap": {},
     "title": ""
    }
   },
   "outputs": [
    {
     "name": "stdout",
     "output_type": "stream",
     "text": [
      "+-------+-----+-----+---+\n",
      "|subject| name|score|rnk|\n",
      "+-------+-----+-----+---+\n",
      "|English| Isha|   88|  1|\n",
      "|English|Rahul|   78|  2|\n",
      "|English|Megha|   60|  3|\n",
      "|   Math|Tanvi|   91|  1|\n",
      "|   Math|Ankit|   85|  2|\n",
      "|   Math|Sneha|   65|  3|\n",
      "|   Math|Rohan|   40|  4|\n",
      "|Science|Divya|   92|  1|\n",
      "|Science|Kunal|   72|  2|\n",
      "|Science|Aryan|   55|  3|\n",
      "+-------+-----+-----+---+\n",
      "\n"
     ]
    }
   ],
   "source": [
    "spark.sql(\"\"\"SELECT subject, name, score, RANK() OVER (PARTITION BY subject ORDER BY score DESC) AS rnk FROM student_scores\"\"\").show()"
   ]
  },
  {
   "cell_type": "code",
   "execution_count": 0,
   "metadata": {
    "application/vnd.databricks.v1+cell": {
     "cellMetadata": {
      "byteLimit": 2048000,
      "rowLimit": 10000
     },
     "inputWidgets": {},
     "nuid": "51a212bd-c3d4-4e55-8fc9-880868e4d0ef",
     "showTitle": false,
     "tableResultSettingsMap": {},
     "title": ""
    }
   },
   "outputs": [
    {
     "name": "stdout",
     "output_type": "stream",
     "text": [
      "+----------+-----+-------+-----+-----+\n",
      "|student_id| name|subject|score|grade|\n",
      "+----------+-----+-------+-----+-----+\n",
      "|         1|Ankit|   Math|   85|    A|\n",
      "|         2|Divya|Science|   92|    A|\n",
      "|         4|Sneha|   Math|   65|    C|\n",
      "|         5|Aryan|Science|   55|    D|\n",
      "|         7|Tanvi|   Math|   91|    A|\n",
      "|         8|Kunal|Science|   72|    B|\n",
      "|        10|Rohan|   Math|   40|    F|\n",
      "|         3|Rahul|English|   88|    B|\n",
      "|         6| Isha|English|   98|    A|\n",
      "|         9|Megha|English|   70|    C|\n",
      "+----------+-----+-------+-----+-----+\n",
      "\n"
     ]
    }
   ],
   "source": [
    "spark.sql(\"\"\"UPDATE student_scores SET score = score+5 WHERE subject = 'English'\"\"\")\n",
    "spark.sql(\"\"\"SELECT * FROM student_scores\"\"\").show()"
   ]
  },
  {
   "cell_type": "code",
   "execution_count": 0,
   "metadata": {
    "application/vnd.databricks.v1+cell": {
     "cellMetadata": {
      "byteLimit": 2048000,
      "rowLimit": 10000
     },
     "inputWidgets": {},
     "nuid": "4eff11ac-61b2-4c90-acc3-c9d514663953",
     "showTitle": false,
     "tableResultSettingsMap": {},
     "title": ""
    }
   },
   "outputs": [
    {
     "data": {
      "text/plain": [
       "DataFrame[num_affected_rows: bigint]"
      ]
     },
     "execution_count": 36,
     "metadata": {},
     "output_type": "execute_result"
    }
   ],
   "source": [
    "spark.sql(\"\"\"DELETE FROM student_scores WHERE score < 50\"\"\")"
   ]
  },
  {
   "cell_type": "code",
   "execution_count": 0,
   "metadata": {
    "application/vnd.databricks.v1+cell": {
     "cellMetadata": {
      "byteLimit": 2048000,
      "rowLimit": 10000
     },
     "inputWidgets": {},
     "nuid": "a4b8c410-6255-4fd2-b89d-d3fe2ef3cee1",
     "showTitle": false,
     "tableResultSettingsMap": {},
     "title": ""
    }
   },
   "outputs": [
    {
     "name": "stdout",
     "output_type": "stream",
     "text": [
      "+----------+-----+-------+-----+-----+\n",
      "|student_id| name|subject|score|grade|\n",
      "+----------+-----+-------+-----+-----+\n",
      "|         3|Rahul|English|   88|    B|\n",
      "|         6| Isha|English|   98|    A|\n",
      "|         9|Megha|English|   70|    C|\n",
      "|         1|Ankit|   Math|   85|    A|\n",
      "|         2|Divya|Science|   92|    A|\n",
      "|         4|Sneha|   Math|   65|    C|\n",
      "|         5|Aryan|Science|   55|    D|\n",
      "|         7|Tanvi|   Math|   91|    A|\n",
      "|         8|Kunal|Science|   72|    B|\n",
      "+----------+-----+-------+-----+-----+\n",
      "\n"
     ]
    }
   ],
   "source": [
    "spark.sql(\"\"\"SELECT * FROM student_scores\"\"\").show()"
   ]
  },
  {
   "cell_type": "code",
   "execution_count": 0,
   "metadata": {
    "application/vnd.databricks.v1+cell": {
     "cellMetadata": {
      "byteLimit": 2048000,
      "rowLimit": 10000
     },
     "inputWidgets": {},
     "nuid": "f569d6b6-fe10-4853-a68b-d06d338ffb31",
     "showTitle": false,
     "tableResultSettingsMap": {},
     "title": ""
    }
   },
   "outputs": [
    {
     "name": "stdout",
     "output_type": "stream",
     "text": [
      "+----------+-----+-------+-----+-----+-----------+\n",
      "|student_id| name|subject|score|grade|pass_status|\n",
      "+----------+-----+-------+-----+-----+-----------+\n",
      "|         3|Rahul|English|   88|    B|       PASS|\n",
      "|         6| Isha|English|   98|    A|       PASS|\n",
      "|         9|Megha|English|   70|    C|       PASS|\n",
      "|         1|Ankit|   Math|   85|    A|       PASS|\n",
      "|         2|Divya|Science|   92|    A|       PASS|\n",
      "|         4|Sneha|   Math|   65|    C|       PASS|\n",
      "|         5|Aryan|Science|   55|    D|       PASS|\n",
      "|         7|Tanvi|   Math|   91|    A|       PASS|\n",
      "|         8|Kunal|Science|   72|    B|       PASS|\n",
      "+----------+-----+-------+-----+-----+-----------+\n",
      "\n"
     ]
    }
   ],
   "source": [
    "spark.sql(\"\"\"SELECT *, CASE WHEN score >= 50 THEN 'PASS' ELSE 'FAIL' END AS pass_status FROM student_scores;\"\"\").show()"
   ]
  },
  {
   "cell_type": "code",
   "execution_count": 0,
   "metadata": {
    "application/vnd.databricks.v1+cell": {
     "cellMetadata": {
      "byteLimit": 2048000,
      "rowLimit": 10000
     },
     "inputWidgets": {},
     "nuid": "89de48a6-9d50-452b-8e81-bc7a4ed14664",
     "showTitle": false,
     "tableResultSettingsMap": {},
     "title": ""
    }
   },
   "outputs": [
    {
     "name": "stdout",
     "output_type": "stream",
     "text": [
      "+-------+---------+\n",
      "|subject|avg_score|\n",
      "+-------+---------+\n",
      "|Science|     73.0|\n",
      "|   Math|    80.33|\n",
      "|English|    85.33|\n",
      "+-------+---------+\n",
      "\n"
     ]
    }
   ],
   "source": [
    "spark.sql(\"\"\"SELECT subject, ROUND(AVG(score), 2) AS avg_score FROM student_scores GROUP BY subject\"\"\").show()"
   ]
  },
  {
   "cell_type": "code",
   "execution_count": 0,
   "metadata": {
    "application/vnd.databricks.v1+cell": {
     "cellMetadata": {
      "byteLimit": 2048000,
      "rowLimit": 10000
     },
     "inputWidgets": {},
     "nuid": "11fc89ba-8f8b-4156-8d18-17cdeee0af8e",
     "showTitle": false,
     "tableResultSettingsMap": {},
     "title": ""
    }
   },
   "outputs": [
    {
     "data": {
      "text/plain": [
       "DataFrame[num_affected_rows: bigint, num_inserted_rows: bigint]"
      ]
     },
     "execution_count": 40,
     "metadata": {},
     "output_type": "execute_result"
    }
   ],
   "source": [
    "spark.sql(\"\"\"CREATE OR REPLACE TABLE student_scores_v2 USING DELTA AS SELECT * FROM student_scores\"\"\")"
   ]
  },
  {
   "cell_type": "code",
   "execution_count": 0,
   "metadata": {
    "application/vnd.databricks.v1+cell": {
     "cellMetadata": {
      "byteLimit": 2048000,
      "rowLimit": 10000
     },
     "inputWidgets": {},
     "nuid": "856ba3de-06a3-4fa8-8466-43232bab3fca",
     "showTitle": false,
     "tableResultSettingsMap": {},
     "title": ""
    }
   },
   "outputs": [],
   "source": [
    "df_final = spark.table(\"student_scores\")\n",
    "df_final.write.mode(\"overwrite\").parquet(\"/tmp/parquet/student_scores\")\n",
    "df_final.write.mode(\"overwrite\").json(\"/tmp/json/student_scores\")"
   ]
  }
 ],
 "metadata": {
  "application/vnd.databricks.v1+notebook": {
   "computePreferences": null,
   "dashboards": [],
   "environmentMetadata": {
    "base_environment": "",
    "environment_version": "2"
   },
   "inputWidgetPreferences": null,
   "language": "python",
   "notebookMetadata": {
    "pythonIndentUnit": 4
   },
   "notebookName": "Delta Exercise- 1",
   "widgets": {}
  },
  "language_info": {
   "name": "python"
  }
 },
 "nbformat": 4,
 "nbformat_minor": 0
}
